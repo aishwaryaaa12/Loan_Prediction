{
 "cells": [
  {
   "cell_type": "markdown",
   "id": "2ece6582",
   "metadata": {},
   "source": [
    "# Problem Statement:"
   ]
  },
  {
   "cell_type": "markdown",
   "id": "1459beea",
   "metadata": {},
   "source": [
    "~~~\n",
    "A Company wants to automate the loan eligibility process \n",
    "based on customer details provided while filling online \n",
    "application form. The details filled by the customer are \n",
    "Gender, Marital Status, Education, Number of Dependents, \n",
    "Income of self and co applicant, Required Loan Amount, \n",
    "Required Loan Term, Credit History and others. The \n",
    "requirements are as follows:\n",
    "~~~"
   ]
  },
  {
   "cell_type": "markdown",
   "id": "bde3b5f0",
   "metadata": {},
   "source": [
    "1. Check eligibility of the Customer given the inputs described above.(Classification)\n",
    "If customer is not eligible for the input required amount and duration:\n",
    "2. what can be amount for the given duration.(Regression)\n",
    "3. if duration is less than equal to 20 years, is customer eligible for required amount for some longer duration? \n",
    "What is that duration?(Regression)"
   ]
  },
  {
   "cell_type": "markdown",
   "id": "9efd239f",
   "metadata": {},
   "source": [
    "# Import Libraries"
   ]
  },
  {
   "cell_type": "code",
   "execution_count": 1,
   "id": "088c9ff7",
   "metadata": {},
   "outputs": [],
   "source": [
    "import numpy as np\n",
    "import pandas as pd\n",
    "\n",
    "import matplotlib.pyplot as plt\n",
    "import seaborn as sns\n",
    "\n",
    "from warnings import filterwarnings\n",
    "filterwarnings(\"ignore\")"
   ]
  },
  {
   "cell_type": "markdown",
   "id": "67b81715",
   "metadata": {},
   "source": [
    "# Read Dataset"
   ]
  },
  {
   "cell_type": "code",
   "execution_count": 2,
   "id": "471a2dd3",
   "metadata": {},
   "outputs": [],
   "source": [
    "trd = pd.read_csv(r\"C:\\Users\\Aishwarya\\OneDrive\\Desktop\\PROJECTS\\Loan Project\\training_set (1).csv\")\n",
    "tsd = pd.read_csv(r\"C:\\Users\\Aishwarya\\OneDrive\\Desktop\\PROJECTS\\Loan Project\\testing_set (1).csv\")"
   ]
  },
  {
   "cell_type": "markdown",
   "id": "8574ffa0",
   "metadata": {},
   "source": [
    "# Profile "
   ]
  },
  {
   "cell_type": "code",
   "execution_count": 3,
   "id": "0e8152be",
   "metadata": {},
   "outputs": [
    {
     "data": {
      "text/html": [
       "<div>\n",
       "<style scoped>\n",
       "    .dataframe tbody tr th:only-of-type {\n",
       "        vertical-align: middle;\n",
       "    }\n",
       "\n",
       "    .dataframe tbody tr th {\n",
       "        vertical-align: top;\n",
       "    }\n",
       "\n",
       "    .dataframe thead th {\n",
       "        text-align: right;\n",
       "    }\n",
       "</style>\n",
       "<table border=\"1\" class=\"dataframe\">\n",
       "  <thead>\n",
       "    <tr style=\"text-align: right;\">\n",
       "      <th></th>\n",
       "      <th>Loan_ID</th>\n",
       "      <th>Gender</th>\n",
       "      <th>Married</th>\n",
       "      <th>Dependents</th>\n",
       "      <th>Education</th>\n",
       "      <th>Self_Employed</th>\n",
       "      <th>ApplicantIncome</th>\n",
       "      <th>CoapplicantIncome</th>\n",
       "      <th>LoanAmount</th>\n",
       "      <th>Loan_Amount_Term</th>\n",
       "      <th>Credit_History</th>\n",
       "      <th>Property_Area</th>\n",
       "      <th>Loan_Status</th>\n",
       "    </tr>\n",
       "  </thead>\n",
       "  <tbody>\n",
       "    <tr>\n",
       "      <th>0</th>\n",
       "      <td>LP001002</td>\n",
       "      <td>Male</td>\n",
       "      <td>No</td>\n",
       "      <td>0</td>\n",
       "      <td>Graduate</td>\n",
       "      <td>No</td>\n",
       "      <td>5849.0</td>\n",
       "      <td>0.0</td>\n",
       "      <td>NaN</td>\n",
       "      <td>360.0</td>\n",
       "      <td>1.0</td>\n",
       "      <td>Urban</td>\n",
       "      <td>Y</td>\n",
       "    </tr>\n",
       "    <tr>\n",
       "      <th>1</th>\n",
       "      <td>LP001003</td>\n",
       "      <td>Male</td>\n",
       "      <td>Yes</td>\n",
       "      <td>1</td>\n",
       "      <td>Graduate</td>\n",
       "      <td>No</td>\n",
       "      <td>NaN</td>\n",
       "      <td>1508.0</td>\n",
       "      <td>128.0</td>\n",
       "      <td>360.0</td>\n",
       "      <td>1.0</td>\n",
       "      <td>Rural</td>\n",
       "      <td>N</td>\n",
       "    </tr>\n",
       "    <tr>\n",
       "      <th>2</th>\n",
       "      <td>LP001005</td>\n",
       "      <td>Male</td>\n",
       "      <td>Yes</td>\n",
       "      <td>0</td>\n",
       "      <td>Graduate</td>\n",
       "      <td>Yes</td>\n",
       "      <td>3000.0</td>\n",
       "      <td>0.0</td>\n",
       "      <td>66.0</td>\n",
       "      <td>360.0</td>\n",
       "      <td>1.0</td>\n",
       "      <td>Urban</td>\n",
       "      <td>Y</td>\n",
       "    </tr>\n",
       "  </tbody>\n",
       "</table>\n",
       "</div>"
      ],
      "text/plain": [
       "    Loan_ID Gender Married Dependents Education Self_Employed  \\\n",
       "0  LP001002   Male      No          0  Graduate            No   \n",
       "1  LP001003   Male     Yes          1  Graduate            No   \n",
       "2  LP001005   Male     Yes          0  Graduate           Yes   \n",
       "\n",
       "   ApplicantIncome  CoapplicantIncome  LoanAmount  Loan_Amount_Term  \\\n",
       "0           5849.0                0.0         NaN             360.0   \n",
       "1              NaN             1508.0       128.0             360.0   \n",
       "2           3000.0                0.0        66.0             360.0   \n",
       "\n",
       "   Credit_History Property_Area Loan_Status  \n",
       "0             1.0         Urban           Y  \n",
       "1             1.0         Rural           N  \n",
       "2             1.0         Urban           Y  "
      ]
     },
     "execution_count": 3,
     "metadata": {},
     "output_type": "execute_result"
    }
   ],
   "source": [
    "trd.head(3)"
   ]
  },
  {
   "cell_type": "code",
   "execution_count": 4,
   "id": "afa0b36b",
   "metadata": {},
   "outputs": [
    {
     "data": {
      "text/html": [
       "<div>\n",
       "<style scoped>\n",
       "    .dataframe tbody tr th:only-of-type {\n",
       "        vertical-align: middle;\n",
       "    }\n",
       "\n",
       "    .dataframe tbody tr th {\n",
       "        vertical-align: top;\n",
       "    }\n",
       "\n",
       "    .dataframe thead th {\n",
       "        text-align: right;\n",
       "    }\n",
       "</style>\n",
       "<table border=\"1\" class=\"dataframe\">\n",
       "  <thead>\n",
       "    <tr style=\"text-align: right;\">\n",
       "      <th></th>\n",
       "      <th>Loan_ID</th>\n",
       "      <th>Gender</th>\n",
       "      <th>Married</th>\n",
       "      <th>Dependents</th>\n",
       "      <th>Education</th>\n",
       "      <th>Self_Employed</th>\n",
       "      <th>ApplicantIncome</th>\n",
       "      <th>CoapplicantIncome</th>\n",
       "      <th>LoanAmount</th>\n",
       "      <th>Loan_Amount_Term</th>\n",
       "      <th>Credit_History</th>\n",
       "      <th>Property_Area</th>\n",
       "    </tr>\n",
       "  </thead>\n",
       "  <tbody>\n",
       "    <tr>\n",
       "      <th>0</th>\n",
       "      <td>LP001015</td>\n",
       "      <td>Male</td>\n",
       "      <td>Yes</td>\n",
       "      <td>0</td>\n",
       "      <td>Graduate</td>\n",
       "      <td>No</td>\n",
       "      <td>5720</td>\n",
       "      <td>0</td>\n",
       "      <td>110.0</td>\n",
       "      <td>360.0</td>\n",
       "      <td>1.0</td>\n",
       "      <td>Urban</td>\n",
       "    </tr>\n",
       "    <tr>\n",
       "      <th>1</th>\n",
       "      <td>LP001022</td>\n",
       "      <td>Male</td>\n",
       "      <td>Yes</td>\n",
       "      <td>1</td>\n",
       "      <td>Graduate</td>\n",
       "      <td>No</td>\n",
       "      <td>3076</td>\n",
       "      <td>1500</td>\n",
       "      <td>126.0</td>\n",
       "      <td>360.0</td>\n",
       "      <td>1.0</td>\n",
       "      <td>Urban</td>\n",
       "    </tr>\n",
       "    <tr>\n",
       "      <th>2</th>\n",
       "      <td>LP001031</td>\n",
       "      <td>Male</td>\n",
       "      <td>Yes</td>\n",
       "      <td>2</td>\n",
       "      <td>Graduate</td>\n",
       "      <td>No</td>\n",
       "      <td>5000</td>\n",
       "      <td>1800</td>\n",
       "      <td>208.0</td>\n",
       "      <td>360.0</td>\n",
       "      <td>1.0</td>\n",
       "      <td>Urban</td>\n",
       "    </tr>\n",
       "  </tbody>\n",
       "</table>\n",
       "</div>"
      ],
      "text/plain": [
       "    Loan_ID Gender Married Dependents Education Self_Employed  \\\n",
       "0  LP001015   Male     Yes          0  Graduate            No   \n",
       "1  LP001022   Male     Yes          1  Graduate            No   \n",
       "2  LP001031   Male     Yes          2  Graduate            No   \n",
       "\n",
       "   ApplicantIncome  CoapplicantIncome  LoanAmount  Loan_Amount_Term  \\\n",
       "0             5720                  0       110.0             360.0   \n",
       "1             3076               1500       126.0             360.0   \n",
       "2             5000               1800       208.0             360.0   \n",
       "\n",
       "   Credit_History Property_Area  \n",
       "0             1.0         Urban  \n",
       "1             1.0         Urban  \n",
       "2             1.0         Urban  "
      ]
     },
     "execution_count": 4,
     "metadata": {},
     "output_type": "execute_result"
    }
   ],
   "source": [
    "tsd.head(3)"
   ]
  },
  {
   "cell_type": "markdown",
   "id": "3d6e570b",
   "metadata": {},
   "source": [
    "# Missing data Treatment"
   ]
  },
  {
   "cell_type": "code",
   "execution_count": 5,
   "id": "7b3140bc",
   "metadata": {},
   "outputs": [
    {
     "data": {
      "text/plain": [
       "Loan_ID               0\n",
       "Gender               15\n",
       "Married               3\n",
       "Dependents           15\n",
       "Education             1\n",
       "Self_Employed        32\n",
       "ApplicantIncome       2\n",
       "CoapplicantIncome     1\n",
       "LoanAmount           22\n",
       "Loan_Amount_Term     14\n",
       "Credit_History       50\n",
       "Property_Area         0\n",
       "Loan_Status           0\n",
       "dtype: int64"
      ]
     },
     "execution_count": 5,
     "metadata": {},
     "output_type": "execute_result"
    }
   ],
   "source": [
    "trd.isna().sum()"
   ]
  },
  {
   "cell_type": "code",
   "execution_count": 6,
   "id": "27f4f595",
   "metadata": {},
   "outputs": [
    {
     "data": {
      "text/plain": [
       "Loan_ID               0\n",
       "Gender               11\n",
       "Married               0\n",
       "Dependents           10\n",
       "Education             0\n",
       "Self_Employed        23\n",
       "ApplicantIncome       0\n",
       "CoapplicantIncome     0\n",
       "LoanAmount            5\n",
       "Loan_Amount_Term      6\n",
       "Credit_History       29\n",
       "Property_Area         0\n",
       "dtype: int64"
      ]
     },
     "execution_count": 6,
     "metadata": {},
     "output_type": "execute_result"
    }
   ],
   "source": [
    "tsd.isna().sum()"
   ]
  },
  {
   "cell_type": "code",
   "execution_count": 7,
   "id": "9cd71cde",
   "metadata": {},
   "outputs": [],
   "source": [
    "#Fillna\n",
    "for i in tsd.columns:                                   # filling Null values with their mean and mode\n",
    "    if(trd[i].dtypes == \"object\"):\n",
    "        x = trd[i].mode()[0]\n",
    "        trd[i] = trd[i].fillna(x)\n",
    "        tsd[i] = tsd[i].fillna(x)\n",
    "    else:\n",
    "        x = trd[i].mean()\n",
    "        trd[i] = trd[i].fillna(x)\n",
    "        tsd[i] = tsd[i].fillna(x)                      "
   ]
  },
  {
   "cell_type": "markdown",
   "id": "c9d7fbed",
   "metadata": {},
   "source": [
    "# Outliers"
   ]
  },
  {
   "cell_type": "code",
   "execution_count": 8,
   "id": "815e4158",
   "metadata": {},
   "outputs": [],
   "source": [
    "cat = []\n",
    "con = []\n",
    "for i in trd.columns:\n",
    "    if(trd[i].dtypes == \"object\"):\n",
    "        cat.append(i)\n",
    "    else:\n",
    "        con.append(i)"
   ]
  },
  {
   "cell_type": "code",
   "execution_count": 9,
   "id": "35f700d7",
   "metadata": {},
   "outputs": [
    {
     "data": {
      "text/plain": [
       "['Loan_ID',\n",
       " 'Gender',\n",
       " 'Married',\n",
       " 'Dependents',\n",
       " 'Education',\n",
       " 'Self_Employed',\n",
       " 'Property_Area',\n",
       " 'Loan_Status']"
      ]
     },
     "execution_count": 9,
     "metadata": {},
     "output_type": "execute_result"
    }
   ],
   "source": [
    "cat"
   ]
  },
  {
   "cell_type": "code",
   "execution_count": 10,
   "id": "9e0c2869",
   "metadata": {},
   "outputs": [
    {
     "data": {
      "text/plain": [
       "['ApplicantIncome',\n",
       " 'CoapplicantIncome',\n",
       " 'LoanAmount',\n",
       " 'Loan_Amount_Term',\n",
       " 'Credit_History']"
      ]
     },
     "execution_count": 10,
     "metadata": {},
     "output_type": "execute_result"
    }
   ],
   "source": [
    "con"
   ]
  },
  {
   "cell_type": "code",
   "execution_count": 11,
   "id": "c64000c9",
   "metadata": {},
   "outputs": [],
   "source": [
    "from sklearn.preprocessing import StandardScaler\n",
    "ss = StandardScaler()\n",
    "import pandas as pd\n",
    "trdconss = pd.DataFrame(ss.fit_transform(trd[con]),columns=con)"
   ]
  },
  {
   "cell_type": "code",
   "execution_count": 12,
   "id": "77c2a6aa",
   "metadata": {},
   "outputs": [],
   "source": [
    "outliers = []\n",
    "for i in trdconss.columns:\n",
    "    outliers.extend(list(trdconss[(trdconss[i]<-3)|(trdconss[i]>3)].index))\n",
    "    \n",
    "from numpy import unique\n",
    "outliers = unique(outliers)"
   ]
  },
  {
   "cell_type": "code",
   "execution_count": 13,
   "id": "a21a3c7d",
   "metadata": {},
   "outputs": [],
   "source": [
    "trd = trd.drop(index = outliers,axis=0)  "
   ]
  },
  {
   "cell_type": "code",
   "execution_count": 14,
   "id": "a2282da4",
   "metadata": {},
   "outputs": [
    {
     "data": {
      "text/plain": [
       "(577, 13)"
      ]
     },
     "execution_count": 14,
     "metadata": {},
     "output_type": "execute_result"
    }
   ],
   "source": [
    "trd.shape"
   ]
  },
  {
   "cell_type": "code",
   "execution_count": 15,
   "id": "2b0773f8",
   "metadata": {},
   "outputs": [],
   "source": [
    "trd.index = range(0,trd.shape[0])       # reindexing"
   ]
  },
  {
   "cell_type": "markdown",
   "id": "e141f9bc",
   "metadata": {},
   "source": [
    "# Exploratory Data Analysis"
   ]
  },
  {
   "cell_type": "code",
   "execution_count": 16,
   "id": "2c4fa903",
   "metadata": {},
   "outputs": [
    {
     "data": {
      "text/plain": [
       "ApplicantIncome      2.145688\n",
       "CoapplicantIncome    1.351359\n",
       "LoanAmount           1.113132\n",
       "Loan_Amount_Term    -2.077031\n",
       "Credit_History      -1.921860\n",
       "dtype: float64"
      ]
     },
     "execution_count": 16,
     "metadata": {},
     "output_type": "execute_result"
    }
   ],
   "source": [
    "trd[con].skew()"
   ]
  },
  {
   "cell_type": "code",
   "execution_count": 17,
   "id": "727dbb25",
   "metadata": {},
   "outputs": [],
   "source": [
    "def ANOVA(df,cat,con):                           #ANOVA for cat vs con\n",
    "    from statsmodels.formula.api import ols\n",
    "    from statsmodels.stats.anova import anova_lm\n",
    "    rel = con + \" ~ \" + cat\n",
    "    model = ols(rel,df).fit()\n",
    "    Q = anova_lm(model)\n",
    "    pval = round(Q.iloc[0:1,4][0],4)\n",
    "    return pval"
   ]
  },
  {
   "cell_type": "code",
   "execution_count": 18,
   "id": "a3b57ff6",
   "metadata": {},
   "outputs": [
    {
     "name": "stdout",
     "output_type": "stream",
     "text": [
      "Loan_Status vs ApplicantIncome  Pval ----> 0.8943\n",
      "Loan_Status vs CoapplicantIncome  Pval ----> 0.2821\n",
      "Loan_Status vs LoanAmount  Pval ----> 0.3975\n",
      "Loan_Status vs Loan_Amount_Term  Pval ----> 0.6636\n",
      "Loan_Status vs Credit_History  Pval ----> 0.0\n"
     ]
    }
   ],
   "source": [
    "for i in con:\n",
    "    p = ANOVA(trd,\"Loan_Status\",i)\n",
    "    print(\"Loan_Status vs\",i,\" Pval ---->\",p)"
   ]
  },
  {
   "cell_type": "markdown",
   "id": "4c5ea22f",
   "metadata": {},
   "source": [
    "# Preprocessing"
   ]
  },
  {
   "cell_type": "code",
   "execution_count": 19,
   "id": "bef95a87",
   "metadata": {},
   "outputs": [],
   "source": [
    "X_trd = trd.drop(labels=[\"Loan_ID\",\"Loan_Status\"],axis=1)\n",
    "Y_trd = trd[[\"Loan_Status\"]]\n",
    "\n",
    "cat = []\n",
    "con = []\n",
    "for i in X_trd.columns:\n",
    "    if(X_trd[i].dtypes == \"object\"):\n",
    "        cat.append(i)\n",
    "    else:\n",
    "        con.append(i)\n",
    "\n",
    "from sklearn.preprocessing import MinMaxScaler\n",
    "mm = MinMaxScaler()\n",
    "x1_trd = pd.DataFrame(mm.fit_transform(X_trd[con]),columns=con)\n",
    "x2_trd = pd.get_dummies(X_trd[cat])\n",
    "Xnew_trd = x1_trd.join(x2_trd)"
   ]
  },
  {
   "cell_type": "markdown",
   "id": "53aac33b",
   "metadata": {},
   "source": [
    "# Train Test Split"
   ]
  },
  {
   "cell_type": "code",
   "execution_count": 20,
   "id": "9a2a8c34",
   "metadata": {},
   "outputs": [],
   "source": [
    "from sklearn.model_selection import train_test_split\n",
    "xtrain,xtest,ytrain,ytest=train_test_split(Xnew_trd,Y_trd,test_size=0.2,random_state=21)"
   ]
  },
  {
   "cell_type": "markdown",
   "id": "b6c0c050",
   "metadata": {},
   "source": [
    "# Logistic Regression"
   ]
  },
  {
   "cell_type": "code",
   "execution_count": 21,
   "id": "272a7fac",
   "metadata": {},
   "outputs": [
    {
     "data": {
      "text/plain": [
       "(0.8156182212581344, 0.8448275862068966, -0.02920936494876214)"
      ]
     },
     "execution_count": 21,
     "metadata": {},
     "output_type": "execute_result"
    }
   ],
   "source": [
    "from sklearn.linear_model import LogisticRegression\n",
    "lr = LogisticRegression()\n",
    "model = lr.fit(xtrain,ytrain)\n",
    "tr_pred = model.predict(xtrain)\n",
    "ts_pred = model.predict(xtest)\n",
    "from sklearn.metrics import accuracy_score\n",
    "tr_acc = accuracy_score(ytrain,tr_pred)\n",
    "ts_acc = accuracy_score(ytest,ts_pred)\n",
    "tr_acc,ts_acc,tr_acc-ts_acc"
   ]
  },
  {
   "cell_type": "markdown",
   "id": "3ce433ae",
   "metadata": {},
   "source": [
    "# Model object"
   ]
  },
  {
   "cell_type": "code",
   "execution_count": 22,
   "id": "976288eb",
   "metadata": {},
   "outputs": [],
   "source": [
    "def modeller(mo):\n",
    "    model = mo.fit(xtrain,ytrain)\n",
    "    tr_pred = model.predict(xtrain)\n",
    "    ts_pred = model.predict(xtest)\n",
    "    from sklearn.metrics import accuracy_score\n",
    "    tr_acc = round(accuracy_score(ytrain,tr_pred),2)\n",
    "    ts_acc = round(accuracy_score(ytest,ts_pred),2)\n",
    "    return tr_acc,ts_acc,tr_acc-ts_acc"
   ]
  },
  {
   "cell_type": "markdown",
   "id": "4e793d3f",
   "metadata": {},
   "source": [
    "# Decision Tree"
   ]
  },
  {
   "cell_type": "code",
   "execution_count": 23,
   "id": "c6c2f37b",
   "metadata": {},
   "outputs": [
    {
     "data": {
      "text/plain": [
       "(1.0, 0.68, 0.31999999999999995)"
      ]
     },
     "execution_count": 23,
     "metadata": {},
     "output_type": "execute_result"
    }
   ],
   "source": [
    "from sklearn.tree import DecisionTreeClassifier\n",
    "dtc = DecisionTreeClassifier(random_state=21)\n",
    "modeller(dtc)"
   ]
  },
  {
   "cell_type": "markdown",
   "id": "129cc133",
   "metadata": {},
   "source": [
    "# Pruning"
   ]
  },
  {
   "cell_type": "code",
   "execution_count": 24,
   "id": "00a64a33",
   "metadata": {},
   "outputs": [
    {
     "name": "stdout",
     "output_type": "stream",
     "text": [
      "2 (0.81, 0.84, -0.029999999999999916)\n",
      "3 (0.83, 0.83, 0.0)\n",
      "4 (0.84, 0.81, 0.029999999999999916)\n",
      "5 (0.85, 0.8, 0.04999999999999993)\n",
      "6 (0.87, 0.8, 0.06999999999999995)\n",
      "7 (0.9, 0.77, 0.13)\n",
      "8 (0.92, 0.73, 0.19000000000000006)\n",
      "9 (0.95, 0.71, 0.24)\n",
      "10 (0.97, 0.69, 0.28)\n",
      "11 (0.98, 0.7, 0.28)\n",
      "12 (0.99, 0.7, 0.29000000000000004)\n",
      "13 (1.0, 0.7, 0.30000000000000004)\n",
      "14 (1.0, 0.68, 0.31999999999999995)\n",
      "15 (1.0, 0.68, 0.31999999999999995)\n",
      "16 (1.0, 0.68, 0.31999999999999995)\n",
      "17 (1.0, 0.68, 0.31999999999999995)\n",
      "18 (1.0, 0.68, 0.31999999999999995)\n",
      "19 (1.0, 0.68, 0.31999999999999995)\n"
     ]
    }
   ],
   "source": [
    "#Max Depth\n",
    "for i in range(2,20):\n",
    "    dtc = DecisionTreeClassifier(random_state=21,max_depth=i)\n",
    "    print(i,modeller(dtc))"
   ]
  },
  {
   "cell_type": "code",
   "execution_count": 25,
   "id": "3f4a5dfe",
   "metadata": {},
   "outputs": [
    {
     "name": "stdout",
     "output_type": "stream",
     "text": [
      "2 (1.0, 0.68, 0.31999999999999995)\n",
      "3 (0.99, 0.68, 0.30999999999999994)\n",
      "4 (0.97, 0.72, 0.25)\n",
      "5 (0.96, 0.69, 0.27)\n",
      "6 (0.95, 0.71, 0.24)\n",
      "7 (0.94, 0.72, 0.21999999999999997)\n",
      "8 (0.93, 0.73, 0.20000000000000007)\n",
      "9 (0.91, 0.72, 0.19000000000000006)\n",
      "10 (0.9, 0.72, 0.18000000000000005)\n",
      "11 (0.9, 0.74, 0.16000000000000003)\n",
      "12 (0.89, 0.77, 0.12)\n",
      "13 (0.89, 0.75, 0.14)\n",
      "14 (0.89, 0.75, 0.14)\n",
      "15 (0.89, 0.76, 0.13)\n",
      "16 (0.88, 0.76, 0.12)\n",
      "17 (0.88, 0.78, 0.09999999999999998)\n",
      "18 (0.88, 0.78, 0.09999999999999998)\n",
      "19 (0.88, 0.78, 0.09999999999999998)\n"
     ]
    }
   ],
   "source": [
    "# Min Sample Split\n",
    "for i in range(2,20):\n",
    "    dtc = DecisionTreeClassifier(random_state=21,min_samples_split=i)\n",
    "    print(i,modeller(dtc))"
   ]
  },
  {
   "cell_type": "code",
   "execution_count": 26,
   "id": "1a2f96bb",
   "metadata": {},
   "outputs": [
    {
     "name": "stdout",
     "output_type": "stream",
     "text": [
      "2 (0.93, 0.74, 0.19000000000000006)\n",
      "3 (0.91, 0.8, 0.10999999999999999)\n",
      "4 (0.89, 0.76, 0.13)\n",
      "5 (0.87, 0.76, 0.10999999999999999)\n",
      "6 (0.87, 0.77, 0.09999999999999998)\n",
      "7 (0.85, 0.78, 0.06999999999999995)\n",
      "8 (0.85, 0.75, 0.09999999999999998)\n",
      "9 (0.83, 0.74, 0.08999999999999997)\n",
      "10 (0.83, 0.75, 0.07999999999999996)\n",
      "11 (0.83, 0.78, 0.04999999999999993)\n",
      "12 (0.82, 0.79, 0.029999999999999916)\n",
      "13 (0.82, 0.79, 0.029999999999999916)\n",
      "14 (0.82, 0.79, 0.029999999999999916)\n",
      "15 (0.82, 0.79, 0.029999999999999916)\n",
      "16 (0.82, 0.78, 0.039999999999999925)\n",
      "17 (0.82, 0.78, 0.039999999999999925)\n",
      "18 (0.82, 0.77, 0.04999999999999993)\n",
      "19 (0.82, 0.77, 0.04999999999999993)\n"
     ]
    }
   ],
   "source": [
    "# Min Sample Leaf\n",
    "for i in range(2,20):\n",
    "    dtc = DecisionTreeClassifier(random_state=21,min_samples_leaf=i)\n",
    "    print(i,modeller(dtc))"
   ]
  },
  {
   "cell_type": "markdown",
   "id": "35b57bdd",
   "metadata": {},
   "source": [
    "# Random Forest"
   ]
  },
  {
   "cell_type": "code",
   "execution_count": 27,
   "id": "7824f04c",
   "metadata": {},
   "outputs": [
    {
     "data": {
      "text/plain": [
       "(0.8, 0.82, -0.019999999999999907)"
      ]
     },
     "execution_count": 27,
     "metadata": {},
     "output_type": "execute_result"
    }
   ],
   "source": [
    "from sklearn.ensemble import RandomForestClassifier\n",
    "rfc = RandomForestClassifier(random_state=21,max_depth=2)\n",
    "modeller(rfc)"
   ]
  },
  {
   "cell_type": "code",
   "execution_count": 28,
   "id": "3130892b",
   "metadata": {},
   "outputs": [
    {
     "name": "stdout",
     "output_type": "stream",
     "text": [
      "(0.8, 0.82, -0.019999999999999907)\n",
      "(0.81, 0.84, -0.029999999999999916)\n",
      "(0.82, 0.84, -0.020000000000000018)\n",
      "(0.84, 0.84, 0.0)\n",
      "(0.85, 0.84, 0.010000000000000009)\n",
      "(0.88, 0.84, 0.040000000000000036)\n",
      "(0.9, 0.82, 0.08000000000000007)\n",
      "(0.92, 0.83, 0.09000000000000008)\n",
      "(0.95, 0.83, 0.12)\n",
      "(0.98, 0.81, 0.16999999999999993)\n",
      "(0.99, 0.82, 0.17000000000000004)\n",
      "(1.0, 0.81, 0.18999999999999995)\n",
      "(1.0, 0.81, 0.18999999999999995)\n",
      "(1.0, 0.82, 0.18000000000000005)\n",
      "(1.0, 0.8, 0.19999999999999996)\n",
      "(1.0, 0.8, 0.19999999999999996)\n",
      "(1.0, 0.8, 0.19999999999999996)\n",
      "(1.0, 0.8, 0.19999999999999996)\n"
     ]
    }
   ],
   "source": [
    "for i in range(2,20):\n",
    "    rfc = RandomForestClassifier(random_state=21,max_depth=i)\n",
    "    print(modeller(rfc))"
   ]
  },
  {
   "cell_type": "markdown",
   "id": "8fd58e24",
   "metadata": {},
   "source": [
    "# KNN"
   ]
  },
  {
   "cell_type": "code",
   "execution_count": 29,
   "id": "ec91e790",
   "metadata": {},
   "outputs": [
    {
     "data": {
      "text/plain": [
       "(0.81, 0.75, 0.06000000000000005)"
      ]
     },
     "execution_count": 29,
     "metadata": {},
     "output_type": "execute_result"
    }
   ],
   "source": [
    "from sklearn.neighbors import KNeighborsClassifier\n",
    "knc = KNeighborsClassifier()\n",
    "modeller(knc)"
   ]
  },
  {
   "cell_type": "code",
   "execution_count": 30,
   "id": "3ca64ad9",
   "metadata": {},
   "outputs": [
    {
     "name": "stdout",
     "output_type": "stream",
     "text": [
      "2 (0.9, 0.69, 0.21000000000000008)\n",
      "3 (0.85, 0.75, 0.09999999999999998)\n",
      "4 (0.86, 0.72, 0.14)\n",
      "5 (0.81, 0.75, 0.06000000000000005)\n",
      "6 (0.8, 0.72, 0.08000000000000007)\n",
      "7 (0.77, 0.7, 0.07000000000000006)\n",
      "8 (0.79, 0.71, 0.08000000000000007)\n",
      "9 (0.76, 0.73, 0.030000000000000027)\n",
      "10 (0.76, 0.72, 0.040000000000000036)\n",
      "11 (0.75, 0.74, 0.010000000000000009)\n",
      "12 (0.76, 0.74, 0.020000000000000018)\n",
      "13 (0.74, 0.75, -0.010000000000000009)\n",
      "14 (0.74, 0.76, -0.020000000000000018)\n",
      "15 (0.74, 0.77, -0.030000000000000027)\n",
      "16 (0.74, 0.76, -0.020000000000000018)\n",
      "17 (0.72, 0.77, -0.050000000000000044)\n",
      "18 (0.73, 0.76, -0.030000000000000027)\n",
      "19 (0.72, 0.77, -0.050000000000000044)\n"
     ]
    }
   ],
   "source": [
    "for i in range(2,20):\n",
    "    knc = KNeighborsClassifier(n_neighbors=i)\n",
    "    print(i,modeller(knc))"
   ]
  },
  {
   "cell_type": "markdown",
   "id": "bd3abebe",
   "metadata": {},
   "source": [
    "# Adaboost Classifier"
   ]
  },
  {
   "cell_type": "code",
   "execution_count": 31,
   "id": "13ad0db5",
   "metadata": {},
   "outputs": [
    {
     "data": {
      "text/plain": [
       "(0.84, 0.81, 0.029999999999999916)"
      ]
     },
     "execution_count": 31,
     "metadata": {},
     "output_type": "execute_result"
    }
   ],
   "source": [
    "from sklearn.ensemble import AdaBoostClassifier\n",
    "abc = AdaBoostClassifier(DecisionTreeClassifier(max_depth=2,random_state=21),n_estimators=6)\n",
    "modeller(abc)"
   ]
  },
  {
   "cell_type": "code",
   "execution_count": 32,
   "id": "d6e6b846",
   "metadata": {},
   "outputs": [
    {
     "name": "stdout",
     "output_type": "stream",
     "text": [
      "(0.82, 0.83, -0.010000000000000009)\n",
      "(0.83, 0.83, 0.0)\n",
      "(0.83, 0.83, 0.0)\n",
      "(0.84, 0.82, 0.020000000000000018)\n",
      "(0.84, 0.81, 0.029999999999999916)\n",
      "(0.84, 0.8, 0.039999999999999925)\n",
      "(0.85, 0.78, 0.06999999999999995)\n",
      "(0.85, 0.78, 0.06999999999999995)\n",
      "(0.86, 0.78, 0.07999999999999996)\n",
      "(0.87, 0.78, 0.08999999999999997)\n",
      "(0.87, 0.78, 0.08999999999999997)\n",
      "(0.87, 0.79, 0.07999999999999996)\n",
      "(0.87, 0.79, 0.07999999999999996)\n",
      "(0.87, 0.77, 0.09999999999999998)\n",
      "(0.88, 0.8, 0.07999999999999996)\n",
      "(0.88, 0.78, 0.09999999999999998)\n",
      "(0.87, 0.78, 0.08999999999999997)\n",
      "(0.88, 0.78, 0.09999999999999998)\n"
     ]
    }
   ],
   "source": [
    "for i in range(2,20):\n",
    "    abc = AdaBoostClassifier(DecisionTreeClassifier(max_depth=2,random_state=21),n_estimators=i)\n",
    "    print(modeller(abc))"
   ]
  },
  {
   "cell_type": "markdown",
   "id": "d9b123f6",
   "metadata": {},
   "source": [
    "# Train the model with entire data in training set"
   ]
  },
  {
   "cell_type": "code",
   "execution_count": 33,
   "id": "30175e12",
   "metadata": {},
   "outputs": [],
   "source": [
    "# we will choose decision tree model with Max depth 3 as our best model\n",
    "dtc = DecisionTreeClassifier(random_state=21,max_depth=3)\n",
    "finmodel = dtc.fit(Xnew_trd,Y_trd)"
   ]
  },
  {
   "cell_type": "markdown",
   "id": "2a3bc754",
   "metadata": {},
   "source": [
    "# Data preparation for testing set"
   ]
  },
  {
   "cell_type": "code",
   "execution_count": 34,
   "id": "1e06bb58",
   "metadata": {},
   "outputs": [],
   "source": [
    "X_tsd = tsd.drop(labels=[\"Loan_ID\"],axis=1)\n",
    "\n",
    "cat = []\n",
    "con = []\n",
    "for i in X_tsd.columns:\n",
    "    if(X_tsd[i].dtypes == \"object\"):\n",
    "        cat.append(i)\n",
    "    else:\n",
    "        con.append(i)"
   ]
  },
  {
   "cell_type": "code",
   "execution_count": 35,
   "id": "d90ea47f",
   "metadata": {},
   "outputs": [],
   "source": [
    "X1_tsd = pd.DataFrame(mm.transform(X_tsd[con]),columns=con)\n",
    "X2_tsd = pd.get_dummies(X_tsd[cat])\n",
    "Xnew_tsd = X1_tsd.join(X2_tsd)"
   ]
  },
  {
   "cell_type": "code",
   "execution_count": 36,
   "id": "9abdf209",
   "metadata": {},
   "outputs": [],
   "source": [
    "pred_LS = finmodel.predict(Xnew_tsd)"
   ]
  },
  {
   "cell_type": "markdown",
   "id": "3380ca48",
   "metadata": {},
   "source": [
    "# Final Dataframe of Predicted Loan Status"
   ]
  },
  {
   "cell_type": "code",
   "execution_count": 37,
   "id": "167e4fc2",
   "metadata": {},
   "outputs": [],
   "source": [
    "Q = tsd[[\"Loan_ID\"]]      #final predictions for loan status\n",
    "Q[\"Loan_Status\"]=pred_LS"
   ]
  },
  {
   "cell_type": "code",
   "execution_count": 38,
   "id": "ad486151",
   "metadata": {},
   "outputs": [
    {
     "data": {
      "text/html": [
       "<div>\n",
       "<style scoped>\n",
       "    .dataframe tbody tr th:only-of-type {\n",
       "        vertical-align: middle;\n",
       "    }\n",
       "\n",
       "    .dataframe tbody tr th {\n",
       "        vertical-align: top;\n",
       "    }\n",
       "\n",
       "    .dataframe thead th {\n",
       "        text-align: right;\n",
       "    }\n",
       "</style>\n",
       "<table border=\"1\" class=\"dataframe\">\n",
       "  <thead>\n",
       "    <tr style=\"text-align: right;\">\n",
       "      <th></th>\n",
       "      <th>Loan_ID</th>\n",
       "      <th>Loan_Status</th>\n",
       "    </tr>\n",
       "  </thead>\n",
       "  <tbody>\n",
       "    <tr>\n",
       "      <th>0</th>\n",
       "      <td>LP001015</td>\n",
       "      <td>Y</td>\n",
       "    </tr>\n",
       "    <tr>\n",
       "      <th>1</th>\n",
       "      <td>LP001022</td>\n",
       "      <td>Y</td>\n",
       "    </tr>\n",
       "    <tr>\n",
       "      <th>2</th>\n",
       "      <td>LP001031</td>\n",
       "      <td>Y</td>\n",
       "    </tr>\n",
       "    <tr>\n",
       "      <th>3</th>\n",
       "      <td>LP001035</td>\n",
       "      <td>Y</td>\n",
       "    </tr>\n",
       "    <tr>\n",
       "      <th>4</th>\n",
       "      <td>LP001051</td>\n",
       "      <td>Y</td>\n",
       "    </tr>\n",
       "    <tr>\n",
       "      <th>...</th>\n",
       "      <td>...</td>\n",
       "      <td>...</td>\n",
       "    </tr>\n",
       "    <tr>\n",
       "      <th>362</th>\n",
       "      <td>LP002971</td>\n",
       "      <td>Y</td>\n",
       "    </tr>\n",
       "    <tr>\n",
       "      <th>363</th>\n",
       "      <td>LP002975</td>\n",
       "      <td>Y</td>\n",
       "    </tr>\n",
       "    <tr>\n",
       "      <th>364</th>\n",
       "      <td>LP002980</td>\n",
       "      <td>Y</td>\n",
       "    </tr>\n",
       "    <tr>\n",
       "      <th>365</th>\n",
       "      <td>LP002986</td>\n",
       "      <td>Y</td>\n",
       "    </tr>\n",
       "    <tr>\n",
       "      <th>366</th>\n",
       "      <td>LP002989</td>\n",
       "      <td>Y</td>\n",
       "    </tr>\n",
       "  </tbody>\n",
       "</table>\n",
       "<p>367 rows × 2 columns</p>\n",
       "</div>"
      ],
      "text/plain": [
       "      Loan_ID Loan_Status\n",
       "0    LP001015           Y\n",
       "1    LP001022           Y\n",
       "2    LP001031           Y\n",
       "3    LP001035           Y\n",
       "4    LP001051           Y\n",
       "..        ...         ...\n",
       "362  LP002971           Y\n",
       "363  LP002975           Y\n",
       "364  LP002980           Y\n",
       "365  LP002986           Y\n",
       "366  LP002989           Y\n",
       "\n",
       "[367 rows x 2 columns]"
      ]
     },
     "execution_count": 38,
     "metadata": {},
     "output_type": "execute_result"
    }
   ],
   "source": [
    "Q"
   ]
  },
  {
   "cell_type": "code",
   "execution_count": 39,
   "id": "604d1f50",
   "metadata": {},
   "outputs": [
    {
     "data": {
      "text/plain": [
       "Y    306\n",
       "N     61\n",
       "Name: Loan_Status, dtype: int64"
      ]
     },
     "execution_count": 39,
     "metadata": {},
     "output_type": "execute_result"
    }
   ],
   "source": [
    "M = Q[\"Loan_Status\"].value_counts()\n",
    "M"
   ]
  },
  {
   "cell_type": "code",
   "execution_count": 40,
   "id": "1cc1eee3",
   "metadata": {},
   "outputs": [
    {
     "data": {
      "text/plain": [
       "<AxesSubplot:xlabel='Loan_Status'>"
      ]
     },
     "execution_count": 40,
     "metadata": {},
     "output_type": "execute_result"
    },
    {
     "data": {
      "image/png": "[encoded data removed]",
      "text/plain": [
       "<Figure size 432x288 with 1 Axes>"
      ]
     },
     "metadata": {
      "needs_background": "light"
     },
     "output_type": "display_data"
    }
   ],
   "source": [
    "sns.barplot(x= M,y= M.index)"
   ]
  },
  {
   "cell_type": "markdown",
   "id": "b276e036",
   "metadata": {},
   "source": [
    "# 2.If customer is not eligible for the input required amount and duration, what can be amount for the given duration.(Regression)"
   ]
  },
  {
   "cell_type": "code",
   "execution_count": 41,
   "id": "9cf98eed",
   "metadata": {},
   "outputs": [],
   "source": [
    "Q['Amt']=tsd.LoanAmount"
   ]
  },
  {
   "cell_type": "code",
   "execution_count": 42,
   "id": "60ab7ca6",
   "metadata": {},
   "outputs": [],
   "source": [
    "pred_set = Q[Q.Loan_Status == \"N\"]"
   ]
  },
  {
   "cell_type": "code",
   "execution_count": 43,
   "id": "5b396ff8",
   "metadata": {},
   "outputs": [
    {
     "data": {
      "text/html": [
       "<div>\n",
       "<style scoped>\n",
       "    .dataframe tbody tr th:only-of-type {\n",
       "        vertical-align: middle;\n",
       "    }\n",
       "\n",
       "    .dataframe tbody tr th {\n",
       "        vertical-align: top;\n",
       "    }\n",
       "\n",
       "    .dataframe thead th {\n",
       "        text-align: right;\n",
       "    }\n",
       "</style>\n",
       "<table border=\"1\" class=\"dataframe\">\n",
       "  <thead>\n",
       "    <tr style=\"text-align: right;\">\n",
       "      <th></th>\n",
       "      <th>Loan_ID</th>\n",
       "      <th>Loan_Status</th>\n",
       "      <th>Amt</th>\n",
       "    </tr>\n",
       "  </thead>\n",
       "  <tbody>\n",
       "    <tr>\n",
       "      <th>7</th>\n",
       "      <td>LP001056</td>\n",
       "      <td>N</td>\n",
       "      <td>147.0</td>\n",
       "    </tr>\n",
       "    <tr>\n",
       "      <th>13</th>\n",
       "      <td>LP001094</td>\n",
       "      <td>N</td>\n",
       "      <td>166.0</td>\n",
       "    </tr>\n",
       "    <tr>\n",
       "      <th>35</th>\n",
       "      <td>LP001203</td>\n",
       "      <td>N</td>\n",
       "      <td>176.0</td>\n",
       "    </tr>\n",
       "    <tr>\n",
       "      <th>55</th>\n",
       "      <td>LP001313</td>\n",
       "      <td>N</td>\n",
       "      <td>130.0</td>\n",
       "    </tr>\n",
       "    <tr>\n",
       "      <th>58</th>\n",
       "      <td>LP001323</td>\n",
       "      <td>N</td>\n",
       "      <td>176.0</td>\n",
       "    </tr>\n",
       "    <tr>\n",
       "      <th>...</th>\n",
       "      <td>...</td>\n",
       "      <td>...</td>\n",
       "      <td>...</td>\n",
       "    </tr>\n",
       "    <tr>\n",
       "      <th>317</th>\n",
       "      <td>LP002774</td>\n",
       "      <td>N</td>\n",
       "      <td>67.0</td>\n",
       "    </tr>\n",
       "    <tr>\n",
       "      <th>325</th>\n",
       "      <td>LP002802</td>\n",
       "      <td>N</td>\n",
       "      <td>95.0</td>\n",
       "    </tr>\n",
       "    <tr>\n",
       "      <th>339</th>\n",
       "      <td>LP002858</td>\n",
       "      <td>N</td>\n",
       "      <td>162.0</td>\n",
       "    </tr>\n",
       "    <tr>\n",
       "      <th>346</th>\n",
       "      <td>LP002879</td>\n",
       "      <td>N</td>\n",
       "      <td>133.0</td>\n",
       "    </tr>\n",
       "    <tr>\n",
       "      <th>354</th>\n",
       "      <td>LP002921</td>\n",
       "      <td>N</td>\n",
       "      <td>158.0</td>\n",
       "    </tr>\n",
       "  </tbody>\n",
       "</table>\n",
       "<p>61 rows × 3 columns</p>\n",
       "</div>"
      ],
      "text/plain": [
       "      Loan_ID Loan_Status    Amt\n",
       "7    LP001056           N  147.0\n",
       "13   LP001094           N  166.0\n",
       "35   LP001203           N  176.0\n",
       "55   LP001313           N  130.0\n",
       "58   LP001323           N  176.0\n",
       "..        ...         ...    ...\n",
       "317  LP002774           N   67.0\n",
       "325  LP002802           N   95.0\n",
       "339  LP002858           N  162.0\n",
       "346  LP002879           N  133.0\n",
       "354  LP002921           N  158.0\n",
       "\n",
       "[61 rows x 3 columns]"
      ]
     },
     "execution_count": 43,
     "metadata": {},
     "output_type": "execute_result"
    }
   ],
   "source": [
    "pred_set"
   ]
  },
  {
   "cell_type": "markdown",
   "id": "74f3eca0",
   "metadata": {},
   "source": [
    "# Data Preparation"
   ]
  },
  {
   "cell_type": "code",
   "execution_count": 44,
   "id": "72316c11",
   "metadata": {},
   "outputs": [],
   "source": [
    "X_trd = trd.drop(labels=[\"Loan_ID\",\"LoanAmount\"],axis=1)\n",
    "Y_trd = trd[[\"LoanAmount\"]]\n",
    "\n",
    "cat = []\n",
    "con = []\n",
    "for i in X_trd.columns:\n",
    "    if(X_trd[i].dtypes == \"object\"):\n",
    "        cat.append(i)\n",
    "    else:\n",
    "        con.append(i)\n",
    "\n",
    "from sklearn.preprocessing import MinMaxScaler\n",
    "mm = MinMaxScaler()\n",
    "x1_trd = pd.DataFrame(mm.fit_transform(X_trd[con]),columns=con)\n",
    "x2_trd = pd.get_dummies(X_trd[cat])\n",
    "Xnew_trd = x1_trd.join(x2_trd)"
   ]
  },
  {
   "cell_type": "code",
   "execution_count": 45,
   "id": "ad79e78a",
   "metadata": {},
   "outputs": [
    {
     "data": {
      "text/html": [
       "<div>\n",
       "<style scoped>\n",
       "    .dataframe tbody tr th:only-of-type {\n",
       "        vertical-align: middle;\n",
       "    }\n",
       "\n",
       "    .dataframe tbody tr th {\n",
       "        vertical-align: top;\n",
       "    }\n",
       "\n",
       "    .dataframe thead th {\n",
       "        text-align: right;\n",
       "    }\n",
       "</style>\n",
       "<table border=\"1\" class=\"dataframe\">\n",
       "  <thead>\n",
       "    <tr style=\"text-align: right;\">\n",
       "      <th></th>\n",
       "      <th>ApplicantIncome</th>\n",
       "      <th>CoapplicantIncome</th>\n",
       "      <th>Loan_Amount_Term</th>\n",
       "      <th>Credit_History</th>\n",
       "      <th>Gender_Female</th>\n",
       "      <th>Gender_Male</th>\n",
       "      <th>Married_No</th>\n",
       "      <th>Married_Yes</th>\n",
       "      <th>Dependents_0</th>\n",
       "      <th>Dependents_1</th>\n",
       "      <th>...</th>\n",
       "      <th>Dependents_3+</th>\n",
       "      <th>Education_Graduate</th>\n",
       "      <th>Education_Not Graduate</th>\n",
       "      <th>Self_Employed_No</th>\n",
       "      <th>Self_Employed_Yes</th>\n",
       "      <th>Property_Area_Rural</th>\n",
       "      <th>Property_Area_Semiurban</th>\n",
       "      <th>Property_Area_Urban</th>\n",
       "      <th>Loan_Status_N</th>\n",
       "      <th>Loan_Status_Y</th>\n",
       "    </tr>\n",
       "  </thead>\n",
       "  <tbody>\n",
       "    <tr>\n",
       "      <th>0</th>\n",
       "      <td>0.277770</td>\n",
       "      <td>0.000000</td>\n",
       "      <td>0.6</td>\n",
       "      <td>1.0</td>\n",
       "      <td>0</td>\n",
       "      <td>1</td>\n",
       "      <td>1</td>\n",
       "      <td>0</td>\n",
       "      <td>1</td>\n",
       "      <td>0</td>\n",
       "      <td>...</td>\n",
       "      <td>0</td>\n",
       "      <td>1</td>\n",
       "      <td>0</td>\n",
       "      <td>1</td>\n",
       "      <td>0</td>\n",
       "      <td>0</td>\n",
       "      <td>0</td>\n",
       "      <td>1</td>\n",
       "      <td>0</td>\n",
       "      <td>1</td>\n",
       "    </tr>\n",
       "    <tr>\n",
       "      <th>1</th>\n",
       "      <td>0.256155</td>\n",
       "      <td>0.167929</td>\n",
       "      <td>0.6</td>\n",
       "      <td>1.0</td>\n",
       "      <td>0</td>\n",
       "      <td>1</td>\n",
       "      <td>0</td>\n",
       "      <td>1</td>\n",
       "      <td>0</td>\n",
       "      <td>1</td>\n",
       "      <td>...</td>\n",
       "      <td>0</td>\n",
       "      <td>1</td>\n",
       "      <td>0</td>\n",
       "      <td>1</td>\n",
       "      <td>0</td>\n",
       "      <td>1</td>\n",
       "      <td>0</td>\n",
       "      <td>0</td>\n",
       "      <td>1</td>\n",
       "      <td>0</td>\n",
       "    </tr>\n",
       "    <tr>\n",
       "      <th>2</th>\n",
       "      <td>0.138909</td>\n",
       "      <td>0.000000</td>\n",
       "      <td>0.6</td>\n",
       "      <td>1.0</td>\n",
       "      <td>0</td>\n",
       "      <td>1</td>\n",
       "      <td>0</td>\n",
       "      <td>1</td>\n",
       "      <td>1</td>\n",
       "      <td>0</td>\n",
       "      <td>...</td>\n",
       "      <td>0</td>\n",
       "      <td>1</td>\n",
       "      <td>0</td>\n",
       "      <td>0</td>\n",
       "      <td>1</td>\n",
       "      <td>0</td>\n",
       "      <td>0</td>\n",
       "      <td>1</td>\n",
       "      <td>0</td>\n",
       "      <td>1</td>\n",
       "    </tr>\n",
       "    <tr>\n",
       "      <th>3</th>\n",
       "      <td>0.118585</td>\n",
       "      <td>0.262584</td>\n",
       "      <td>0.6</td>\n",
       "      <td>1.0</td>\n",
       "      <td>0</td>\n",
       "      <td>1</td>\n",
       "      <td>0</td>\n",
       "      <td>1</td>\n",
       "      <td>1</td>\n",
       "      <td>0</td>\n",
       "      <td>...</td>\n",
       "      <td>0</td>\n",
       "      <td>0</td>\n",
       "      <td>1</td>\n",
       "      <td>1</td>\n",
       "      <td>0</td>\n",
       "      <td>0</td>\n",
       "      <td>0</td>\n",
       "      <td>1</td>\n",
       "      <td>0</td>\n",
       "      <td>1</td>\n",
       "    </tr>\n",
       "    <tr>\n",
       "      <th>4</th>\n",
       "      <td>0.285129</td>\n",
       "      <td>0.000000</td>\n",
       "      <td>0.6</td>\n",
       "      <td>1.0</td>\n",
       "      <td>0</td>\n",
       "      <td>1</td>\n",
       "      <td>1</td>\n",
       "      <td>0</td>\n",
       "      <td>1</td>\n",
       "      <td>0</td>\n",
       "      <td>...</td>\n",
       "      <td>0</td>\n",
       "      <td>1</td>\n",
       "      <td>0</td>\n",
       "      <td>1</td>\n",
       "      <td>0</td>\n",
       "      <td>0</td>\n",
       "      <td>0</td>\n",
       "      <td>1</td>\n",
       "      <td>0</td>\n",
       "      <td>1</td>\n",
       "    </tr>\n",
       "  </tbody>\n",
       "</table>\n",
       "<p>5 rows × 21 columns</p>\n",
       "</div>"
      ],
      "text/plain": [
       "   ApplicantIncome  CoapplicantIncome  Loan_Amount_Term  Credit_History  \\\n",
       "0         0.277770           0.000000               0.6             1.0   \n",
       "1         0.256155           0.167929               0.6             1.0   \n",
       "2         0.138909           0.000000               0.6             1.0   \n",
       "3         0.118585           0.262584               0.6             1.0   \n",
       "4         0.285129           0.000000               0.6             1.0   \n",
       "\n",
       "   Gender_Female  Gender_Male  Married_No  Married_Yes  Dependents_0  \\\n",
       "0              0            1           1            0             1   \n",
       "1              0            1           0            1             0   \n",
       "2              0            1           0            1             1   \n",
       "3              0            1           0            1             1   \n",
       "4              0            1           1            0             1   \n",
       "\n",
       "   Dependents_1  ...  Dependents_3+  Education_Graduate  \\\n",
       "0             0  ...              0                   1   \n",
       "1             1  ...              0                   1   \n",
       "2             0  ...              0                   1   \n",
       "3             0  ...              0                   0   \n",
       "4             0  ...              0                   1   \n",
       "\n",
       "   Education_Not Graduate  Self_Employed_No  Self_Employed_Yes  \\\n",
       "0                       0                 1                  0   \n",
       "1                       0                 1                  0   \n",
       "2                       0                 0                  1   \n",
       "3                       1                 1                  0   \n",
       "4                       0                 1                  0   \n",
       "\n",
       "   Property_Area_Rural  Property_Area_Semiurban  Property_Area_Urban  \\\n",
       "0                    0                        0                    1   \n",
       "1                    1                        0                    0   \n",
       "2                    0                        0                    1   \n",
       "3                    0                        0                    1   \n",
       "4                    0                        0                    1   \n",
       "\n",
       "   Loan_Status_N  Loan_Status_Y  \n",
       "0              0              1  \n",
       "1              1              0  \n",
       "2              0              1  \n",
       "3              0              1  \n",
       "4              0              1  \n",
       "\n",
       "[5 rows x 21 columns]"
      ]
     },
     "execution_count": 45,
     "metadata": {},
     "output_type": "execute_result"
    }
   ],
   "source": [
    "Xnew_trd.head()"
   ]
  },
  {
   "cell_type": "code",
   "execution_count": 46,
   "id": "aa8cc4cb",
   "metadata": {},
   "outputs": [
    {
     "data": {
      "text/html": [
       "<div>\n",
       "<style scoped>\n",
       "    .dataframe tbody tr th:only-of-type {\n",
       "        vertical-align: middle;\n",
       "    }\n",
       "\n",
       "    .dataframe tbody tr th {\n",
       "        vertical-align: top;\n",
       "    }\n",
       "\n",
       "    .dataframe thead th {\n",
       "        text-align: right;\n",
       "    }\n",
       "</style>\n",
       "<table border=\"1\" class=\"dataframe\">\n",
       "  <thead>\n",
       "    <tr style=\"text-align: right;\">\n",
       "      <th></th>\n",
       "      <th>LoanAmount</th>\n",
       "    </tr>\n",
       "  </thead>\n",
       "  <tbody>\n",
       "    <tr>\n",
       "      <th>0</th>\n",
       "      <td>146.412162</td>\n",
       "    </tr>\n",
       "    <tr>\n",
       "      <th>1</th>\n",
       "      <td>128.000000</td>\n",
       "    </tr>\n",
       "    <tr>\n",
       "      <th>2</th>\n",
       "      <td>66.000000</td>\n",
       "    </tr>\n",
       "    <tr>\n",
       "      <th>3</th>\n",
       "      <td>120.000000</td>\n",
       "    </tr>\n",
       "    <tr>\n",
       "      <th>4</th>\n",
       "      <td>141.000000</td>\n",
       "    </tr>\n",
       "  </tbody>\n",
       "</table>\n",
       "</div>"
      ],
      "text/plain": [
       "   LoanAmount\n",
       "0  146.412162\n",
       "1  128.000000\n",
       "2   66.000000\n",
       "3  120.000000\n",
       "4  141.000000"
      ]
     },
     "execution_count": 46,
     "metadata": {},
     "output_type": "execute_result"
    }
   ],
   "source": [
    "Y_trd.head()"
   ]
  },
  {
   "cell_type": "code",
   "execution_count": 47,
   "id": "52e97d6d",
   "metadata": {},
   "outputs": [],
   "source": [
    "from sklearn.model_selection import train_test_split\n",
    "xtrain,xtest,ytrain,ytest=train_test_split(Xnew_trd,Y_trd,test_size=0.2,random_state=21)"
   ]
  },
  {
   "cell_type": "markdown",
   "id": "5b9a6367",
   "metadata": {},
   "source": [
    "# Model Object"
   ]
  },
  {
   "cell_type": "code",
   "execution_count": 48,
   "id": "9b8d5c2d",
   "metadata": {},
   "outputs": [],
   "source": [
    "def modeller(mo):\n",
    "    model = mo.fit(xtrain,ytrain)\n",
    "    tr_pred = model.predict(xtrain)\n",
    "    ts_pred = model.predict(xtest)\n",
    "    from sklearn.metrics import mean_squared_error\n",
    "    tr_err = round(mean_squared_error(ytrain,tr_pred),2)\n",
    "    ts_err = round(mean_squared_error(ytest,ts_pred),2)\n",
    "    return tr_err,ts_err"
   ]
  },
  {
   "cell_type": "markdown",
   "id": "6211259b",
   "metadata": {},
   "source": [
    "# OLS"
   ]
  },
  {
   "cell_type": "code",
   "execution_count": 49,
   "id": "89a45488",
   "metadata": {},
   "outputs": [
    {
     "data": {
      "text/html": [
       "<table class=\"simpletable\">\n",
       "<caption>OLS Regression Results</caption>\n",
       "<tr>\n",
       "  <th>Dep. Variable:</th>       <td>LoanAmount</td>    <th>  R-squared:         </th> <td>   0.417</td>\n",
       "</tr>\n",
       "<tr>\n",
       "  <th>Model:</th>                   <td>OLS</td>       <th>  Adj. R-squared:    </th> <td>   0.398</td>\n",
       "</tr>\n",
       "<tr>\n",
       "  <th>Method:</th>             <td>Least Squares</td>  <th>  F-statistic:       </th> <td>   22.76</td>\n",
       "</tr>\n",
       "<tr>\n",
       "  <th>Date:</th>             <td>Sun, 06 Aug 2023</td> <th>  Prob (F-statistic):</th> <td>6.42e-44</td>\n",
       "</tr>\n",
       "<tr>\n",
       "  <th>Time:</th>                 <td>15:57:24</td>     <th>  Log-Likelihood:    </th> <td> -2392.4</td>\n",
       "</tr>\n",
       "<tr>\n",
       "  <th>No. Observations:</th>      <td>   461</td>      <th>  AIC:               </th> <td>   4815.</td>\n",
       "</tr>\n",
       "<tr>\n",
       "  <th>Df Residuals:</th>          <td>   446</td>      <th>  BIC:               </th> <td>   4877.</td>\n",
       "</tr>\n",
       "<tr>\n",
       "  <th>Df Model:</th>              <td>    14</td>      <th>                     </th>     <td> </td>   \n",
       "</tr>\n",
       "<tr>\n",
       "  <th>Covariance Type:</th>      <td>nonrobust</td>    <th>                     </th>     <td> </td>   \n",
       "</tr>\n",
       "</table>\n",
       "<table class=\"simpletable\">\n",
       "<tr>\n",
       "             <td></td>                <th>coef</th>     <th>std err</th>      <th>t</th>      <th>P>|t|</th>  <th>[0.025</th>    <th>0.975]</th>  \n",
       "</tr>\n",
       "<tr>\n",
       "  <th>const</th>                   <td>   13.9879</td> <td>    2.534</td> <td>    5.520</td> <td> 0.000</td> <td>    9.008</td> <td>   18.968</td>\n",
       "</tr>\n",
       "<tr>\n",
       "  <th>ApplicantIncome</th>         <td>  200.1983</td> <td>   14.762</td> <td>   13.561</td> <td> 0.000</td> <td>  171.186</td> <td>  229.211</td>\n",
       "</tr>\n",
       "<tr>\n",
       "  <th>CoapplicantIncome</th>       <td>  132.7207</td> <td>   12.243</td> <td>   10.841</td> <td> 0.000</td> <td>  108.660</td> <td>  156.781</td>\n",
       "</tr>\n",
       "<tr>\n",
       "  <th>Loan_Amount_Term</th>        <td>   19.8254</td> <td>   12.588</td> <td>    1.575</td> <td> 0.116</td> <td>   -4.913</td> <td>   44.564</td>\n",
       "</tr>\n",
       "<tr>\n",
       "  <th>Credit_History</th>          <td>    7.3222</td> <td>    6.990</td> <td>    1.048</td> <td> 0.295</td> <td>   -6.415</td> <td>   21.060</td>\n",
       "</tr>\n",
       "<tr>\n",
       "  <th>Gender_Female</th>           <td>    3.1186</td> <td>    3.360</td> <td>    0.928</td> <td> 0.354</td> <td>   -3.485</td> <td>    9.722</td>\n",
       "</tr>\n",
       "<tr>\n",
       "  <th>Gender_Male</th>             <td>   10.8692</td> <td>    2.987</td> <td>    3.639</td> <td> 0.000</td> <td>    5.000</td> <td>   16.739</td>\n",
       "</tr>\n",
       "<tr>\n",
       "  <th>Married_No</th>              <td>    5.7381</td> <td>    2.912</td> <td>    1.970</td> <td> 0.049</td> <td>    0.014</td> <td>   11.462</td>\n",
       "</tr>\n",
       "<tr>\n",
       "  <th>Married_Yes</th>             <td>    8.2498</td> <td>    2.740</td> <td>    3.010</td> <td> 0.003</td> <td>    2.864</td> <td>   13.636</td>\n",
       "</tr>\n",
       "<tr>\n",
       "  <th>Dependents_0</th>            <td>   -3.9844</td> <td>    3.483</td> <td>   -1.144</td> <td> 0.253</td> <td>  -10.829</td> <td>    2.860</td>\n",
       "</tr>\n",
       "<tr>\n",
       "  <th>Dependents_1</th>            <td>    3.8337</td> <td>    4.570</td> <td>    0.839</td> <td> 0.402</td> <td>   -5.148</td> <td>   12.815</td>\n",
       "</tr>\n",
       "<tr>\n",
       "  <th>Dependents_2</th>            <td>    1.2483</td> <td>    4.572</td> <td>    0.273</td> <td> 0.785</td> <td>   -7.736</td> <td>   10.233</td>\n",
       "</tr>\n",
       "<tr>\n",
       "  <th>Dependents_3+</th>           <td>   12.8903</td> <td>    5.764</td> <td>    2.236</td> <td> 0.026</td> <td>    1.562</td> <td>   24.218</td>\n",
       "</tr>\n",
       "<tr>\n",
       "  <th>Education_Graduate</th>      <td>   10.9738</td> <td>    2.902</td> <td>    3.781</td> <td> 0.000</td> <td>    5.270</td> <td>   16.677</td>\n",
       "</tr>\n",
       "<tr>\n",
       "  <th>Education_Not Graduate</th>  <td>    3.0141</td> <td>    2.811</td> <td>    1.072</td> <td> 0.284</td> <td>   -2.510</td> <td>    8.538</td>\n",
       "</tr>\n",
       "<tr>\n",
       "  <th>Self_Employed_No</th>        <td>    4.8488</td> <td>    3.099</td> <td>    1.565</td> <td> 0.118</td> <td>   -1.241</td> <td>   10.938</td>\n",
       "</tr>\n",
       "<tr>\n",
       "  <th>Self_Employed_Yes</th>       <td>    9.1390</td> <td>    3.736</td> <td>    2.446</td> <td> 0.015</td> <td>    1.796</td> <td>   16.482</td>\n",
       "</tr>\n",
       "<tr>\n",
       "  <th>Property_Area_Rural</th>     <td>    3.5874</td> <td>    3.278</td> <td>    1.094</td> <td> 0.274</td> <td>   -2.856</td> <td>   10.030</td>\n",
       "</tr>\n",
       "<tr>\n",
       "  <th>Property_Area_Semiurban</th> <td>    8.5047</td> <td>    2.987</td> <td>    2.847</td> <td> 0.005</td> <td>    2.634</td> <td>   14.375</td>\n",
       "</tr>\n",
       "<tr>\n",
       "  <th>Property_Area_Urban</th>     <td>    1.8958</td> <td>    3.073</td> <td>    0.617</td> <td> 0.538</td> <td>   -4.145</td> <td>    7.936</td>\n",
       "</tr>\n",
       "<tr>\n",
       "  <th>Loan_Status_N</th>           <td>   12.6528</td> <td>    2.777</td> <td>    4.556</td> <td> 0.000</td> <td>    7.195</td> <td>   18.110</td>\n",
       "</tr>\n",
       "<tr>\n",
       "  <th>Loan_Status_Y</th>           <td>    1.3351</td> <td>    3.211</td> <td>    0.416</td> <td> 0.678</td> <td>   -4.975</td> <td>    7.645</td>\n",
       "</tr>\n",
       "</table>\n",
       "<table class=\"simpletable\">\n",
       "<tr>\n",
       "  <th>Omnibus:</th>       <td>30.410</td> <th>  Durbin-Watson:     </th> <td>   1.948</td>\n",
       "</tr>\n",
       "<tr>\n",
       "  <th>Prob(Omnibus):</th> <td> 0.000</td> <th>  Jarque-Bera (JB):  </th> <td> 106.592</td>\n",
       "</tr>\n",
       "<tr>\n",
       "  <th>Skew:</th>          <td> 0.111</td> <th>  Prob(JB):          </th> <td>7.14e-24</td>\n",
       "</tr>\n",
       "<tr>\n",
       "  <th>Kurtosis:</th>      <td> 5.345</td> <th>  Cond. No.          </th> <td>4.29e+16</td>\n",
       "</tr>\n",
       "</table><br/><br/>Notes:<br/>[1] Standard Errors assume that the covariance matrix of the errors is correctly specified.<br/>[2] The smallest eigenvalue is 1.54e-30. This might indicate that there are<br/>strong multicollinearity problems or that the design matrix is singular."
      ],
      "text/plain": [
       "<class 'statsmodels.iolib.summary.Summary'>\n",
       "\"\"\"\n",
       "                            OLS Regression Results                            \n",
       "==============================================================================\n",
       "Dep. Variable:             LoanAmount   R-squared:                       0.417\n",
       "Model:                            OLS   Adj. R-squared:                  0.398\n",
       "Method:                 Least Squares   F-statistic:                     22.76\n",
       "Date:                Sun, 06 Aug 2023   Prob (F-statistic):           6.42e-44\n",
       "Time:                        15:57:24   Log-Likelihood:                -2392.4\n",
       "No. Observations:                 461   AIC:                             4815.\n",
       "Df Residuals:                     446   BIC:                             4877.\n",
       "Df Model:                          14                                         \n",
       "Covariance Type:            nonrobust                                         \n",
       "===========================================================================================\n",
       "                              coef    std err          t      P>|t|      [0.025      0.975]\n",
       "-------------------------------------------------------------------------------------------\n",
       "const                      13.9879      2.534      5.520      0.000       9.008      18.968\n",
       "ApplicantIncome           200.1983     14.762     13.561      0.000     171.186     229.211\n",
       "CoapplicantIncome         132.7207     12.243     10.841      0.000     108.660     156.781\n",
       "Loan_Amount_Term           19.8254     12.588      1.575      0.116      -4.913      44.564\n",
       "Credit_History              7.3222      6.990      1.048      0.295      -6.415      21.060\n",
       "Gender_Female               3.1186      3.360      0.928      0.354      -3.485       9.722\n",
       "Gender_Male                10.8692      2.987      3.639      0.000       5.000      16.739\n",
       "Married_No                  5.7381      2.912      1.970      0.049       0.014      11.462\n",
       "Married_Yes                 8.2498      2.740      3.010      0.003       2.864      13.636\n",
       "Dependents_0               -3.9844      3.483     -1.144      0.253     -10.829       2.860\n",
       "Dependents_1                3.8337      4.570      0.839      0.402      -5.148      12.815\n",
       "Dependents_2                1.2483      4.572      0.273      0.785      -7.736      10.233\n",
       "Dependents_3+              12.8903      5.764      2.236      0.026       1.562      24.218\n",
       "Education_Graduate         10.9738      2.902      3.781      0.000       5.270      16.677\n",
       "Education_Not Graduate      3.0141      2.811      1.072      0.284      -2.510       8.538\n",
       "Self_Employed_No            4.8488      3.099      1.565      0.118      -1.241      10.938\n",
       "Self_Employed_Yes           9.1390      3.736      2.446      0.015       1.796      16.482\n",
       "Property_Area_Rural         3.5874      3.278      1.094      0.274      -2.856      10.030\n",
       "Property_Area_Semiurban     8.5047      2.987      2.847      0.005       2.634      14.375\n",
       "Property_Area_Urban         1.8958      3.073      0.617      0.538      -4.145       7.936\n",
       "Loan_Status_N              12.6528      2.777      4.556      0.000       7.195      18.110\n",
       "Loan_Status_Y               1.3351      3.211      0.416      0.678      -4.975       7.645\n",
       "==============================================================================\n",
       "Omnibus:                       30.410   Durbin-Watson:                   1.948\n",
       "Prob(Omnibus):                  0.000   Jarque-Bera (JB):              106.592\n",
       "Skew:                           0.111   Prob(JB):                     7.14e-24\n",
       "Kurtosis:                       5.345   Cond. No.                     4.29e+16\n",
       "==============================================================================\n",
       "\n",
       "Notes:\n",
       "[1] Standard Errors assume that the covariance matrix of the errors is correctly specified.\n",
       "[2] The smallest eigenvalue is 1.54e-30. This might indicate that there are\n",
       "strong multicollinearity problems or that the design matrix is singular.\n",
       "\"\"\""
      ]
     },
     "execution_count": 49,
     "metadata": {},
     "output_type": "execute_result"
    }
   ],
   "source": [
    "from statsmodels.api import add_constant,OLS\n",
    "xconst = add_constant(xtrain)\n",
    "ols = OLS(ytrain,xconst).fit()\n",
    "ols.summary()"
   ]
  },
  {
   "cell_type": "code",
   "execution_count": 50,
   "id": "b45a6c11",
   "metadata": {},
   "outputs": [
    {
     "data": {
      "text/plain": [
       "0.39835688550313697"
      ]
     },
     "execution_count": 50,
     "metadata": {},
     "output_type": "execute_result"
    }
   ],
   "source": [
    "ols.rsquared_adj"
   ]
  },
  {
   "cell_type": "code",
   "execution_count": 51,
   "id": "d9556ae1",
   "metadata": {},
   "outputs": [],
   "source": [
    "col = ols.pvalues.sort_values().index[-1]"
   ]
  },
  {
   "cell_type": "code",
   "execution_count": 52,
   "id": "ebc4a795",
   "metadata": {},
   "outputs": [
    {
     "data": {
      "text/plain": [
       "'Dependents_2'"
      ]
     },
     "execution_count": 52,
     "metadata": {},
     "output_type": "execute_result"
    }
   ],
   "source": [
    "col"
   ]
  },
  {
   "cell_type": "code",
   "execution_count": 53,
   "id": "394dd14f",
   "metadata": {},
   "outputs": [
    {
     "name": "stdout",
     "output_type": "stream",
     "text": [
      "0.3983568855031371 Dependents_1\n"
     ]
    }
   ],
   "source": [
    "Xnew_trd = Xnew_trd.drop(labels=[col],axis=1)\n",
    "from sklearn.model_selection import train_test_split\n",
    "xtrain,xtest,ytrain,ytest=train_test_split(Xnew_trd,Y_trd,test_size=0.2,random_state=21)\n",
    "from statsmodels.api import add_constant,OLS\n",
    "xconst = add_constant(xtrain)\n",
    "ols = OLS(ytrain,xconst).fit()\n",
    "col = ols.pvalues.sort_values().index[-1]\n",
    "print(ols.rsquared_adj,col)"
   ]
  },
  {
   "cell_type": "markdown",
   "id": "aecddf4a",
   "metadata": {},
   "source": [
    "# Linear Regression"
   ]
  },
  {
   "cell_type": "code",
   "execution_count": 54,
   "id": "e65c60af",
   "metadata": {},
   "outputs": [
    {
     "data": {
      "text/plain": [
       "(1884.62, 1942.26)"
      ]
     },
     "execution_count": 54,
     "metadata": {},
     "output_type": "execute_result"
    }
   ],
   "source": [
    "from sklearn.linear_model import LinearRegression\n",
    "lm = LinearRegression()\n",
    "modeller(lm)"
   ]
  },
  {
   "cell_type": "markdown",
   "id": "0c907a98",
   "metadata": {},
   "source": [
    "# Decision Tree"
   ]
  },
  {
   "cell_type": "code",
   "execution_count": 55,
   "id": "c1256335",
   "metadata": {},
   "outputs": [
    {
     "data": {
      "text/plain": [
       "(1891.73, 2555.54)"
      ]
     },
     "execution_count": 55,
     "metadata": {},
     "output_type": "execute_result"
    }
   ],
   "source": [
    "from sklearn.tree import DecisionTreeRegressor\n",
    "dtr = DecisionTreeRegressor(random_state=21,max_depth=2)\n",
    "modeller(dtr)"
   ]
  },
  {
   "cell_type": "code",
   "execution_count": 56,
   "id": "284ef8eb",
   "metadata": {},
   "outputs": [],
   "source": [
    "tr = []\n",
    "ts = []\n",
    "for i in range(2,20):\n",
    "    dtr = DecisionTreeRegressor(random_state=21,max_depth=i)\n",
    "    tre,tse = modeller(dtr)\n",
    "    tr.append(tre)\n",
    "    ts.append(tse)"
   ]
  },
  {
   "cell_type": "code",
   "execution_count": 57,
   "id": "e0dfa5d7",
   "metadata": {},
   "outputs": [
    {
     "data": {
      "text/plain": [
       "[<matplotlib.lines.Line2D at 0x1600368a1f0>]"
      ]
     },
     "execution_count": 57,
     "metadata": {},
     "output_type": "execute_result"
    },
    {
     "data": {
      "image/png": "[encoded data removed]",
      "text/plain": [
       "<Figure size 432x288 with 1 Axes>"
      ]
     },
     "metadata": {
      "needs_background": "light"
     },
     "output_type": "display_data"
    }
   ],
   "source": [
    "plt.plot(tr)\n",
    "plt.plot(ts)"
   ]
  },
  {
   "cell_type": "code",
   "execution_count": 58,
   "id": "229c4978",
   "metadata": {},
   "outputs": [
    {
     "name": "stdout",
     "output_type": "stream",
     "text": [
      "2 (1891.73, 2555.54)\n",
      "3 (1579.42, 2564.37)\n",
      "4 (1352.13, 2839.3)\n",
      "5 (1074.81, 3417.7)\n",
      "6 (785.24, 4141.08)\n",
      "7 (566.36, 4145.22)\n",
      "8 (380.67, 4184.54)\n",
      "9 (238.36, 4176.92)\n",
      "10 (159.27, 4224.57)\n",
      "11 (80.03, 4435.98)\n",
      "12 (47.92, 4076.82)\n",
      "13 (27.62, 4454.38)\n",
      "14 (17.34, 4358.18)\n",
      "15 (10.31, 4335.98)\n",
      "16 (6.23, 4339.27)\n",
      "17 (3.34, 4271.83)\n",
      "18 (1.59, 4494.82)\n",
      "19 (0.86, 4433.14)\n"
     ]
    }
   ],
   "source": [
    "for i in range(2,20):\n",
    "    dtr = DecisionTreeRegressor(random_state=21,max_depth=i)\n",
    "    print(i,modeller(dtr))"
   ]
  },
  {
   "cell_type": "code",
   "execution_count": 59,
   "id": "b1855afc",
   "metadata": {},
   "outputs": [
    {
     "name": "stdout",
     "output_type": "stream",
     "text": [
      "2 (317.53, 4348.02)\n",
      "3 (652.81, 3173.52)\n",
      "4 (796.79, 3274.8)\n",
      "5 (853.48, 3062.02)\n",
      "6 (1019.43, 3037.83)\n",
      "7 (1031.74, 3040.09)\n",
      "8 (1132.41, 3104.49)\n",
      "9 (1160.26, 3063.09)\n",
      "10 (1173.09, 3030.45)\n",
      "11 (1273.88, 2651.82)\n",
      "12 (1315.09, 2643.92)\n",
      "13 (1353.51, 2465.31)\n",
      "14 (1367.05, 2559.18)\n",
      "15 (1386.05, 2547.94)\n",
      "16 (1390.82, 2538.14)\n",
      "17 (1412.12, 2479.23)\n",
      "18 (1433.87, 2431.23)\n",
      "19 (1437.11, 2416.15)\n"
     ]
    }
   ],
   "source": [
    "for i in range(2,20):\n",
    "    dtr = DecisionTreeRegressor(random_state=21,min_samples_leaf=i)\n",
    "    print(i,modeller(dtr))"
   ]
  },
  {
   "cell_type": "code",
   "execution_count": 60,
   "id": "6184d25d",
   "metadata": {},
   "outputs": [
    {
     "name": "stdout",
     "output_type": "stream",
     "text": [
      "2 (0.85, 4528.6)\n",
      "3 (59.05, 4515.16)\n",
      "4 (153.89, 4513.45)\n",
      "5 (282.88, 4280.67)\n",
      "6 (374.19, 4271.57)\n",
      "7 (415.15, 4155.31)\n",
      "8 (483.49, 3973.48)\n",
      "9 (569.35, 4038.54)\n",
      "10 (579.75, 4072.5)\n",
      "11 (672.21, 3645.44)\n",
      "12 (720.26, 3644.46)\n",
      "13 (779.81, 3407.25)\n",
      "14 (802.54, 3435.99)\n",
      "15 (827.0, 3384.88)\n",
      "16 (893.21, 3245.4)\n",
      "17 (899.05, 3249.6)\n",
      "18 (923.04, 3246.13)\n",
      "19 (942.92, 3242.86)\n"
     ]
    }
   ],
   "source": [
    "for i in range(2,20):\n",
    "    dtr = DecisionTreeRegressor(random_state=21,min_samples_split=i)\n",
    "    print(i,modeller(dtr))"
   ]
  },
  {
   "cell_type": "code",
   "execution_count": 61,
   "id": "46c1aac2",
   "metadata": {},
   "outputs": [
    {
     "name": "stdout",
     "output_type": "stream",
     "text": [
      "(1722.79, 2220.47)\n",
      "(1432.85, 2286.42)\n",
      "(1154.59, 2390.54)\n",
      "(953.04, 2460.72)\n",
      "(754.99, 2554.27)\n",
      "(588.95, 2573.81)\n",
      "(466.79, 2616.92)\n",
      "(387.05, 2597.05)\n",
      "(334.24, 2603.91)\n",
      "(303.17, 2584.49)\n",
      "(287.34, 2624.3)\n",
      "(272.27, 2607.1)\n",
      "(266.7, 2586.99)\n",
      "(268.6, 2592.68)\n",
      "(268.02, 2624.91)\n",
      "(269.18, 2600.76)\n",
      "(268.8, 2625.61)\n",
      "(269.16, 2615.31)\n"
     ]
    }
   ],
   "source": [
    "from sklearn.ensemble import RandomForestRegressor\n",
    "for i in range(2,20):\n",
    "    rfr = RandomForestRegressor(random_state=21,max_depth=i)\n",
    "    print(modeller(rfr))"
   ]
  },
  {
   "cell_type": "code",
   "execution_count": 62,
   "id": "7e503b55",
   "metadata": {},
   "outputs": [
    {
     "name": "stdout",
     "output_type": "stream",
     "text": [
      "2 (1066.77, 3604.36)\n",
      "3 (1522.94, 3146.38)\n",
      "4 (1813.18, 2940.38)\n",
      "5 (2043.87, 2735.79)\n",
      "6 (2216.34, 2751.67)\n",
      "7 (2304.28, 2572.83)\n",
      "8 (2366.5, 2427.36)\n",
      "9 (2453.24, 2432.01)\n",
      "10 (2475.59, 2461.2)\n",
      "11 (2523.94, 2497.7)\n",
      "12 (2531.66, 2550.25)\n",
      "13 (2547.04, 2511.14)\n",
      "14 (2600.91, 2514.76)\n",
      "15 (2605.28, 2485.45)\n",
      "16 (2602.23, 2463.42)\n",
      "17 (2586.05, 2452.36)\n",
      "18 (2607.88, 2449.22)\n",
      "19 (2645.16, 2411.57)\n"
     ]
    }
   ],
   "source": [
    "from sklearn.neighbors import KNeighborsRegressor\n",
    "for i in range(2,20):\n",
    "    knr = KNeighborsRegressor(n_neighbors=i)\n",
    "    print(i,modeller(knr))"
   ]
  },
  {
   "cell_type": "code",
   "execution_count": 63,
   "id": "6a451645",
   "metadata": {},
   "outputs": [
    {
     "name": "stdout",
     "output_type": "stream",
     "text": [
      "(1994.57, 2643.01)\n",
      "(1801.51, 2239.05)\n",
      "(1804.1, 2341.51)\n",
      "(1807.4, 2367.48)\n",
      "(1838.25, 2348.55)\n",
      "(1781.95, 2277.0)\n",
      "(1814.11, 2402.2)\n",
      "(1827.21, 2440.3)\n",
      "(1791.25, 2450.51)\n",
      "(1737.93, 2440.94)\n",
      "(1717.67, 2417.46)\n",
      "(1753.77, 2371.95)\n",
      "(1735.25, 2239.45)\n",
      "(1777.06, 2384.81)\n",
      "(1764.93, 2294.06)\n",
      "(1743.92, 2385.23)\n",
      "(1798.21, 2370.2)\n",
      "(1813.86, 2418.33)\n"
     ]
    }
   ],
   "source": [
    "from sklearn.ensemble import AdaBoostRegressor\n",
    "for i in range(2,20):\n",
    "    abr = AdaBoostRegressor(DecisionTreeRegressor(max_depth=2,random_state=21),n_estimators=i)\n",
    "    print(modeller(abr))"
   ]
  },
  {
   "cell_type": "markdown",
   "id": "581603f6",
   "metadata": {},
   "source": [
    "# Final Prediction"
   ]
  },
  {
   "cell_type": "code",
   "execution_count": 64,
   "id": "4677d4c5",
   "metadata": {},
   "outputs": [],
   "source": [
    "tsd['Loan_Status']=pred_LS"
   ]
  },
  {
   "cell_type": "code",
   "execution_count": 65,
   "id": "ce3f6d4e",
   "metadata": {},
   "outputs": [],
   "source": [
    "tsdnew = tsd.drop(labels=[\"Loan_ID\",\"LoanAmount\"],axis=1)"
   ]
  },
  {
   "cell_type": "code",
   "execution_count": 66,
   "id": "8103a83c",
   "metadata": {},
   "outputs": [],
   "source": [
    "cat = []\n",
    "con = []\n",
    "for i in X_trd.columns:\n",
    "    if(X_trd[i].dtypes == \"object\"):\n",
    "        cat.append(i)\n",
    "    else:\n",
    "        con.append(i)\n",
    "\n",
    "from sklearn.preprocessing import MinMaxScaler\n",
    "mm = MinMaxScaler()\n",
    "x1_trd = pd.DataFrame(mm.fit_transform(X_trd[con]),columns=con)\n",
    "x2_trd = pd.get_dummies(X_trd[cat])\n",
    "Xnew_trd = x1_trd.join(x2_trd)"
   ]
  },
  {
   "cell_type": "code",
   "execution_count": 67,
   "id": "8e3dc475",
   "metadata": {},
   "outputs": [],
   "source": [
    "lm = LinearRegression()\n",
    "model = lm.fit(Xnew_trd,Y_trd)"
   ]
  },
  {
   "cell_type": "code",
   "execution_count": 68,
   "id": "26090d17",
   "metadata": {},
   "outputs": [],
   "source": [
    "cat = []\n",
    "con = []\n",
    "for i in tsdnew.columns:\n",
    "    if(tsdnew[i].dtypes == \"object\"):\n",
    "        cat.append(i)\n",
    "    else:\n",
    "        con.append(i)\n",
    "\n",
    "from sklearn.preprocessing import MinMaxScaler\n",
    "mm = MinMaxScaler()\n",
    "x1_trd = pd.DataFrame(mm.fit_transform(tsdnew[con]),columns=con)\n",
    "x2_trd = pd.get_dummies(tsdnew[cat])\n",
    "Xnew_tsd = x1_trd.join(x2_trd)"
   ]
  },
  {
   "cell_type": "code",
   "execution_count": 69,
   "id": "3f3789ad",
   "metadata": {},
   "outputs": [],
   "source": [
    "predcited_loanAmt = model.predict(Xnew_tsd)"
   ]
  },
  {
   "cell_type": "code",
   "execution_count": 70,
   "id": "4032bde1",
   "metadata": {},
   "outputs": [],
   "source": [
    "Q['predicted_LoanAmt']= predcited_loanAmt"
   ]
  },
  {
   "cell_type": "code",
   "execution_count": 71,
   "id": "eea018cf",
   "metadata": {},
   "outputs": [
    {
     "data": {
      "text/html": [
       "<div>\n",
       "<style scoped>\n",
       "    .dataframe tbody tr th:only-of-type {\n",
       "        vertical-align: middle;\n",
       "    }\n",
       "\n",
       "    .dataframe tbody tr th {\n",
       "        vertical-align: top;\n",
       "    }\n",
       "\n",
       "    .dataframe thead th {\n",
       "        text-align: right;\n",
       "    }\n",
       "</style>\n",
       "<table border=\"1\" class=\"dataframe\">\n",
       "  <thead>\n",
       "    <tr style=\"text-align: right;\">\n",
       "      <th></th>\n",
       "      <th>Loan_ID</th>\n",
       "      <th>Loan_Status</th>\n",
       "      <th>Amt</th>\n",
       "      <th>predicted_LoanAmt</th>\n",
       "    </tr>\n",
       "  </thead>\n",
       "  <tbody>\n",
       "    <tr>\n",
       "      <th>7</th>\n",
       "      <td>LP001056</td>\n",
       "      <td>N</td>\n",
       "      <td>147.0</td>\n",
       "      <td>95.526754</td>\n",
       "    </tr>\n",
       "    <tr>\n",
       "      <th>13</th>\n",
       "      <td>LP001094</td>\n",
       "      <td>N</td>\n",
       "      <td>166.0</td>\n",
       "      <td>125.282906</td>\n",
       "    </tr>\n",
       "    <tr>\n",
       "      <th>35</th>\n",
       "      <td>LP001203</td>\n",
       "      <td>N</td>\n",
       "      <td>176.0</td>\n",
       "      <td>86.115915</td>\n",
       "    </tr>\n",
       "    <tr>\n",
       "      <th>55</th>\n",
       "      <td>LP001313</td>\n",
       "      <td>N</td>\n",
       "      <td>130.0</td>\n",
       "      <td>80.699971</td>\n",
       "    </tr>\n",
       "    <tr>\n",
       "      <th>58</th>\n",
       "      <td>LP001323</td>\n",
       "      <td>N</td>\n",
       "      <td>176.0</td>\n",
       "      <td>111.489127</td>\n",
       "    </tr>\n",
       "    <tr>\n",
       "      <th>...</th>\n",
       "      <td>...</td>\n",
       "      <td>...</td>\n",
       "      <td>...</td>\n",
       "      <td>...</td>\n",
       "    </tr>\n",
       "    <tr>\n",
       "      <th>317</th>\n",
       "      <td>LP002774</td>\n",
       "      <td>N</td>\n",
       "      <td>67.0</td>\n",
       "      <td>91.043398</td>\n",
       "    </tr>\n",
       "    <tr>\n",
       "      <th>325</th>\n",
       "      <td>LP002802</td>\n",
       "      <td>N</td>\n",
       "      <td>95.0</td>\n",
       "      <td>73.138275</td>\n",
       "    </tr>\n",
       "    <tr>\n",
       "      <th>339</th>\n",
       "      <td>LP002858</td>\n",
       "      <td>N</td>\n",
       "      <td>162.0</td>\n",
       "      <td>94.862319</td>\n",
       "    </tr>\n",
       "    <tr>\n",
       "      <th>346</th>\n",
       "      <td>LP002879</td>\n",
       "      <td>N</td>\n",
       "      <td>133.0</td>\n",
       "      <td>102.076910</td>\n",
       "    </tr>\n",
       "    <tr>\n",
       "      <th>354</th>\n",
       "      <td>LP002921</td>\n",
       "      <td>N</td>\n",
       "      <td>158.0</td>\n",
       "      <td>95.979727</td>\n",
       "    </tr>\n",
       "  </tbody>\n",
       "</table>\n",
       "<p>61 rows × 4 columns</p>\n",
       "</div>"
      ],
      "text/plain": [
       "      Loan_ID Loan_Status    Amt  predicted_LoanAmt\n",
       "7    LP001056           N  147.0          95.526754\n",
       "13   LP001094           N  166.0         125.282906\n",
       "35   LP001203           N  176.0          86.115915\n",
       "55   LP001313           N  130.0          80.699971\n",
       "58   LP001323           N  176.0         111.489127\n",
       "..        ...         ...    ...                ...\n",
       "317  LP002774           N   67.0          91.043398\n",
       "325  LP002802           N   95.0          73.138275\n",
       "339  LP002858           N  162.0          94.862319\n",
       "346  LP002879           N  133.0         102.076910\n",
       "354  LP002921           N  158.0          95.979727\n",
       "\n",
       "[61 rows x 4 columns]"
      ]
     },
     "execution_count": 71,
     "metadata": {},
     "output_type": "execute_result"
    }
   ],
   "source": [
    "Q[Q.Loan_Status == \"N\"]      "
   ]
  },
  {
   "cell_type": "markdown",
   "id": "0a0bd1f9",
   "metadata": {},
   "source": [
    "*This are the predicted Loan amount for the pepole whose loan was rejected for that duration"
   ]
  },
  {
   "cell_type": "markdown",
   "id": "046654b4",
   "metadata": {},
   "source": [
    "# 3.3. if duration is less than equal to 20 years, is customer eligible for required amount for some longer duration? What is that duration?(Regression)"
   ]
  },
  {
   "cell_type": "code",
   "execution_count": 72,
   "id": "4b6d6446",
   "metadata": {},
   "outputs": [
    {
     "data": {
      "text/plain": [
       "(367, 4)"
      ]
     },
     "execution_count": 72,
     "metadata": {},
     "output_type": "execute_result"
    }
   ],
   "source": [
    "Q.shape"
   ]
  },
  {
   "cell_type": "markdown",
   "id": "bf19b03b",
   "metadata": {},
   "source": [
    "# Data preparation"
   ]
  },
  {
   "cell_type": "code",
   "execution_count": 73,
   "id": "ef2815e4",
   "metadata": {},
   "outputs": [],
   "source": [
    "Q = tsd[(tsd.Loan_Status == \"N\")&(tsd.Loan_Amount_Term<=240)]                  # testing Data\n",
    "Q.index = range(0,Q.shape[0])\n",
    "Q = Q.drop(labels=[\"Loan_Status\",\"Loan_ID\",\"Loan_Amount_Term\"],axis=1)\n",
    "cat = []\n",
    "con = []\n",
    "for i in Q.columns:\n",
    "    if(Q[i].dtypes == \"object\"):\n",
    "        cat.append(i)\n",
    "    else:\n",
    "        con.append(i)\n",
    "\n",
    "from sklearn.preprocessing import MinMaxScaler\n",
    "mm = MinMaxScaler()\n",
    "x1_trd = pd.DataFrame(mm.fit_transform(Q[con]),columns=con)\n",
    "x2_trd = pd.get_dummies(Q[cat])\n",
    "Xnew_tsd = x1_trd.join(x2_trd)"
   ]
  },
  {
   "cell_type": "code",
   "execution_count": 74,
   "id": "e1ac4920",
   "metadata": {},
   "outputs": [],
   "source": [
    "X_trd = trd.drop(labels=[\"Loan_Status\",\"Loan_ID\",\"Loan_Amount_Term\"],axis=1)           # Training Data\n",
    "Y_trd = trd[[\"Loan_Amount_Term\"]]\n",
    "cat = []\n",
    "con = []\n",
    "for i in X_trd.columns:\n",
    "    if(X_trd[i].dtypes == \"object\"):\n",
    "        cat.append(i)\n",
    "    else:\n",
    "        con.append(i)\n",
    "\n",
    "from sklearn.preprocessing import MinMaxScaler\n",
    "mm = MinMaxScaler()\n",
    "x1_trd = pd.DataFrame(mm.fit_transform(X_trd[con]),columns=con)\n",
    "x2_trd = pd.get_dummies(X_trd[cat])\n",
    "Xnew_trd = x1_trd.join(x2_trd)\n",
    "\n",
    "from sklearn.model_selection import train_test_split\n",
    "xtrain,xtest,ytrain,ytest=train_test_split(Xnew_trd,Y_trd,test_size=0.2,random_state=21)"
   ]
  },
  {
   "cell_type": "markdown",
   "id": "163f79dd",
   "metadata": {},
   "source": [
    "# Models"
   ]
  },
  {
   "cell_type": "markdown",
   "id": "2c252cfe",
   "metadata": {},
   "source": [
    "# Linear regression"
   ]
  },
  {
   "cell_type": "code",
   "execution_count": 75,
   "id": "71219b93",
   "metadata": {},
   "outputs": [
    {
     "data": {
      "text/plain": [
       "(2399.06, 2928.42)"
      ]
     },
     "execution_count": 75,
     "metadata": {},
     "output_type": "execute_result"
    }
   ],
   "source": [
    "from sklearn.linear_model import LinearRegression\n",
    "lm = LinearRegression()\n",
    "modeller(lm)"
   ]
  },
  {
   "cell_type": "markdown",
   "id": "7a46a809",
   "metadata": {},
   "source": [
    "# Decision Tree"
   ]
  },
  {
   "cell_type": "code",
   "execution_count": 76,
   "id": "58fa25f9",
   "metadata": {},
   "outputs": [
    {
     "data": {
      "text/plain": [
       "(2428.25, 3503.81)"
      ]
     },
     "execution_count": 76,
     "metadata": {},
     "output_type": "execute_result"
    }
   ],
   "source": [
    "from sklearn.tree import DecisionTreeRegressor\n",
    "dtr = DecisionTreeRegressor(random_state=21,max_depth=2)\n",
    "modeller(dtr)"
   ]
  },
  {
   "cell_type": "code",
   "execution_count": 77,
   "id": "4233399e",
   "metadata": {},
   "outputs": [
    {
     "name": "stdout",
     "output_type": "stream",
     "text": [
      "2 (2428.25, 3503.81)\n",
      "3 (2267.38, 3649.06)\n",
      "4 (2105.68, 4161.1)\n",
      "5 (1861.66, 4086.04)\n",
      "6 (1561.29, 4050.14)\n",
      "7 (1257.13, 4122.65)\n",
      "8 (982.72, 4314.68)\n",
      "9 (502.45, 4967.66)\n",
      "10 (317.32, 6178.52)\n",
      "11 (203.47, 5211.42)\n",
      "12 (72.72, 5372.01)\n",
      "13 (15.62, 6767.07)\n",
      "14 (0.0, 5686.45)\n",
      "15 (0.0, 5686.45)\n",
      "16 (0.0, 5686.45)\n",
      "17 (0.0, 5686.45)\n",
      "18 (0.0, 5686.45)\n",
      "19 (0.0, 5686.45)\n"
     ]
    }
   ],
   "source": [
    "# Max Depth\n",
    "for i in range(2,20):\n",
    "    dtr = DecisionTreeRegressor(random_state=21,max_depth=i)\n",
    "    print(i,modeller(dtr))"
   ]
  },
  {
   "cell_type": "code",
   "execution_count": 78,
   "id": "c5cfecda",
   "metadata": {},
   "outputs": [
    {
     "name": "stdout",
     "output_type": "stream",
     "text": [
      "2 (805.25, 4810.78)\n",
      "3 (1311.17, 4300.28)\n",
      "4 (1549.63, 4065.47)\n",
      "5 (1636.28, 3885.21)\n",
      "6 (1726.18, 3677.92)\n",
      "7 (1812.34, 3817.39)\n",
      "8 (1891.36, 3750.67)\n",
      "9 (1938.0, 3715.35)\n",
      "10 (1957.8, 3493.27)\n",
      "11 (2040.67, 3297.47)\n",
      "12 (2066.96, 3100.03)\n",
      "13 (2104.39, 3055.61)\n",
      "14 (2192.93, 2907.93)\n",
      "15 (2219.39, 2875.62)\n",
      "16 (2229.27, 2948.39)\n",
      "17 (2256.89, 2923.55)\n",
      "18 (2248.52, 2996.55)\n",
      "19 (2249.7, 3008.44)\n"
     ]
    }
   ],
   "source": [
    "# Min Sample Leaf\n",
    "for i in range(2,20):\n",
    "    dtr = DecisionTreeRegressor(random_state=21,min_samples_leaf=i)\n",
    "    print(i,modeller(dtr))"
   ]
  },
  {
   "cell_type": "code",
   "execution_count": 79,
   "id": "b8ec53f1",
   "metadata": {},
   "outputs": [
    {
     "name": "stdout",
     "output_type": "stream",
     "text": [
      "2 (0.0, 5686.45)\n",
      "3 (221.62, 6406.76)\n",
      "4 (467.88, 5974.74)\n",
      "5 (728.19, 5528.23)\n",
      "6 (907.51, 5956.51)\n",
      "7 (907.51, 5956.51)\n",
      "8 (943.66, 5971.1)\n",
      "9 (1006.13, 5878.0)\n",
      "10 (1121.94, 5230.29)\n",
      "11 (1185.19, 4939.98)\n",
      "12 (1202.94, 4803.73)\n",
      "13 (1271.77, 4775.07)\n",
      "14 (1275.61, 4768.81)\n",
      "15 (1305.07, 4656.48)\n",
      "16 (1382.44, 4436.26)\n",
      "17 (1448.85, 4261.1)\n",
      "18 (1448.85, 4261.1)\n",
      "19 (1641.3, 4133.16)\n"
     ]
    }
   ],
   "source": [
    "# Min Sample Split\n",
    "for i in range(2,20):\n",
    "    dtr = DecisionTreeRegressor(random_state=21,min_samples_split=i)\n",
    "    print(i,modeller(dtr))"
   ]
  },
  {
   "cell_type": "markdown",
   "id": "73d09ac0",
   "metadata": {},
   "source": [
    "# Random Forest"
   ]
  },
  {
   "cell_type": "code",
   "execution_count": 80,
   "id": "cc0d577e",
   "metadata": {},
   "outputs": [
    {
     "name": "stdout",
     "output_type": "stream",
     "text": [
      "(2322.56, 3010.09)\n",
      "(2095.85, 2985.92)\n",
      "(1826.42, 2997.87)\n",
      "(1526.28, 2970.96)\n",
      "(1222.26, 3000.04)\n",
      "(940.59, 3006.9)\n",
      "(736.95, 3017.07)\n",
      "(590.23, 3013.76)\n",
      "(503.08, 2987.88)\n",
      "(453.56, 2964.68)\n",
      "(428.48, 3019.58)\n",
      "(416.01, 2981.3)\n",
      "(410.37, 3006.69)\n",
      "(409.44, 3010.15)\n",
      "(407.68, 3015.43)\n",
      "(408.42, 3010.22)\n",
      "(407.94, 3009.43)\n",
      "(407.94, 3009.43)\n"
     ]
    }
   ],
   "source": [
    "from sklearn.ensemble import RandomForestRegressor\n",
    "for i in range(2,20):\n",
    "    rfr = RandomForestRegressor(random_state=21,max_depth=i)\n",
    "    print(modeller(rfr))"
   ]
  },
  {
   "cell_type": "markdown",
   "id": "fabf30fd",
   "metadata": {},
   "source": [
    "# KNN"
   ]
  },
  {
   "cell_type": "code",
   "execution_count": 81,
   "id": "851214d6",
   "metadata": {},
   "outputs": [
    {
     "name": "stdout",
     "output_type": "stream",
     "text": [
      "2 (1141.24, 3774.03)\n",
      "3 (1590.91, 3734.69)\n",
      "4 (1826.87, 3431.06)\n",
      "5 (2004.99, 3044.41)\n",
      "6 (2104.51, 3088.31)\n",
      "7 (2192.67, 3062.19)\n",
      "8 (2216.54, 3006.65)\n",
      "9 (2272.11, 3014.95)\n",
      "10 (2327.7, 2998.84)\n",
      "11 (2399.42, 2969.45)\n",
      "12 (2425.41, 3024.21)\n",
      "13 (2438.87, 3020.16)\n",
      "14 (2482.25, 3034.6)\n",
      "15 (2477.8, 3051.59)\n",
      "16 (2484.01, 3039.23)\n",
      "17 (2489.28, 3032.95)\n",
      "18 (2471.81, 3053.87)\n",
      "19 (2451.09, 3074.15)\n"
     ]
    }
   ],
   "source": [
    "from sklearn.neighbors import KNeighborsRegressor\n",
    "for i in range(2,20):\n",
    "    knr = KNeighborsRegressor(n_neighbors=i)\n",
    "    print(i,modeller(knr))"
   ]
  },
  {
   "cell_type": "markdown",
   "id": "135a0274",
   "metadata": {},
   "source": [
    "# Adaboost "
   ]
  },
  {
   "cell_type": "code",
   "execution_count": 82,
   "id": "c0c2404d",
   "metadata": {},
   "outputs": [
    {
     "name": "stdout",
     "output_type": "stream",
     "text": [
      "2 (2501.82, 2987.29)\n",
      "3 (2486.26, 2918.35)\n",
      "4 (2441.34, 3067.26)\n",
      "5 (2526.8, 3086.79)\n",
      "6 (2612.12, 3241.63)\n",
      "7 (2521.52, 3362.05)\n",
      "8 (2315.97, 3284.3)\n",
      "9 (2486.93, 2876.87)\n",
      "10 (2545.21, 3406.4)\n",
      "11 (2568.4, 2964.77)\n",
      "12 (2590.32, 3141.37)\n",
      "13 (2504.12, 3171.1)\n",
      "14 (2444.33, 3055.95)\n",
      "15 (2584.58, 3161.7)\n",
      "16 (2564.51, 3133.77)\n",
      "17 (2477.2, 3013.19)\n",
      "18 (2510.96, 3127.3)\n",
      "19 (2638.8, 3224.72)\n"
     ]
    }
   ],
   "source": [
    "from sklearn.ensemble import AdaBoostRegressor\n",
    "for i in range(2,20):\n",
    "    abr = AdaBoostRegressor(DecisionTreeRegressor(max_depth=2,random_state=21),n_estimators=i)\n",
    "    print(i,modeller(abr))    "
   ]
  },
  {
   "cell_type": "code",
   "execution_count": 83,
   "id": "ac51c050",
   "metadata": {},
   "outputs": [
    {
     "data": {
      "text/plain": [
       "(2327.7, 2998.84)"
      ]
     },
     "execution_count": 83,
     "metadata": {},
     "output_type": "execute_result"
    }
   ],
   "source": [
    "knr = KNeighborsRegressor(n_neighbors=10)               # This is our best model ,KNN with n_neighbors = 10\n",
    "modeller(knr)"
   ]
  },
  {
   "cell_type": "code",
   "execution_count": 84,
   "id": "42416496",
   "metadata": {},
   "outputs": [
    {
     "data": {
      "text/plain": [
       "14"
      ]
     },
     "execution_count": 84,
     "metadata": {},
     "output_type": "execute_result"
    }
   ],
   "source": [
    "len(Xnew_tsd.columns)"
   ]
  },
  {
   "cell_type": "code",
   "execution_count": 85,
   "id": "7c293453",
   "metadata": {},
   "outputs": [
    {
     "data": {
      "text/plain": [
       "19"
      ]
     },
     "execution_count": 85,
     "metadata": {},
     "output_type": "execute_result"
    }
   ],
   "source": [
    "len(Xnew_trd.columns)"
   ]
  },
  {
   "cell_type": "code",
   "execution_count": 86,
   "id": "73a0bcbb",
   "metadata": {},
   "outputs": [],
   "source": [
    "for i in ['Dependents_1', 'Gender_Female', 'Self_Employed_Yes', 'Dependents_2', 'Property_Area_Rural']:\n",
    "    Xnew_tsd[i]=0"
   ]
  },
  {
   "cell_type": "markdown",
   "id": "a9dc8ca5",
   "metadata": {},
   "source": [
    "# Fitting  The Final Model"
   ]
  },
  {
   "cell_type": "code",
   "execution_count": 87,
   "id": "393d5168",
   "metadata": {},
   "outputs": [
    {
     "name": "stdout",
     "output_type": "stream",
     "text": [
      "360.0\n",
      "304.2\n",
      "342.0\n",
      "334.2\n",
      "372.0\n"
     ]
    }
   ],
   "source": [
    "knr = KNeighborsRegressor(n_neighbors=10)     # THis is our Final model\n",
    "model = knr.fit(Xnew_trd,Y_trd)\n",
    "\n",
    "for i in model.predict(Xnew_tsd):\n",
    "    print(i[0])      "
   ]
  },
  {
   "cell_type": "markdown",
   "id": "f599c9e0",
   "metadata": {},
   "source": [
    "# In this project we tried to solve 3 different problems:"
   ]
  },
  {
   "cell_type": "markdown",
   "id": "94f3b29c",
   "metadata": {},
   "source": [
    "~~~    \n",
    "1.first we predicted loan status (classification) here we predicted which people would get the loan (Y/N),\n",
    "              in our prediction people eligible for loan are :-->306 and Not eligible are -->61\n",
    "2.secondly ,the people whose loan was rejected ,we tried to predict what Amount of loan they would get(Regression\n",
    "3.lastly , the people whose loan was rejected for duration less than 20 years ,we predicted for what duration they\n",
    "       would get the loan(regression)\n",
    "              so the predicted durations were :--> 360,304,334,372 months\n",
    "~~~\n"
   ]
  },
  {
   "cell_type": "code",
   "execution_count": null,
   "id": "2744e720",
   "metadata": {},
   "outputs": [],
   "source": []
  }
 ],
 "metadata": {
  "kernelspec": {
   "display_name": "Python 3 (ipykernel)",
   "language": "python",
   "name": "python3"
  },
  "language_info": {
   "codemirror_mode": {
    "name": "ipython",
    "version": 3
   },
   "file_extension": ".py",
   "mimetype": "text/x-python",
   "name": "python",
   "nbconvert_exporter": "python",
   "pygments_lexer": "ipython3",
   "version": "3.9.12"
  }
 },
 "nbformat": 4,
 "nbformat_minor": 5
}
